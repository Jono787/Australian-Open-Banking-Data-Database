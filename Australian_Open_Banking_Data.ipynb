{
  "nbformat": 4,
  "nbformat_minor": 0,
  "metadata": {
    "colab": {
      "name": "Australian Open Banking Data.ipynb",
      "provenance": [],
      "toc_visible": true,
      "authorship_tag": "ABX9TyPhRXjWbAhBMMzmU6m/g0A+"
    },
    "kernelspec": {
      "name": "python3",
      "display_name": "Python 3"
    }
  },
  "cells": [
    {
      "cell_type": "markdown",
      "metadata": {
        "id": "AADIlolZIotz"
      },
      "source": [
        "# Australian Open Banking Data\n",
        "\n",
        "\n",
        "---\n",
        "\n"
      ]
    },
    {
      "cell_type": "markdown",
      "metadata": {
        "id": "26Tx-Z91IwNS"
      },
      "source": [
        "To access any product reference data you need to send a HTTP request with the required parameters to the appropraite banking API URL. The two available \n",
        "Banking APIs are Get Products and Get Product Detail."
      ]
    },
    {
      "cell_type": "markdown",
      "metadata": {
        "id": "w1p4r_qsI_Dm"
      },
      "source": [
        "## Get Products\n",
        "\n",
        "\n",
        "\n"
      ]
    },
    {
      "cell_type": "markdown",
      "metadata": {
        "id": "_0XYm3ATJD3s"
      },
      "source": [
        "This API returns a list of products currently offered by the financial institution to the market.\n",
        "\n",
        "[Complete API reference](https://consumerdatastandardsaustralia.github.io/standards/#get-products)"
      ]
    },
    {
      "cell_type": "markdown",
      "metadata": {
        "id": "_GEV12w0LCk9"
      },
      "source": [
        "**Import requests**"
      ]
    },
    {
      "cell_type": "markdown",
      "metadata": {
        "id": "CzRhmFCiLwCL"
      },
      "source": [
        "We need to import the requests library to fetch the webpage and return the results"
      ]
    },
    {
      "cell_type": "code",
      "metadata": {
        "id": "Jx7mvxnEKhLm"
      },
      "source": [
        "import requests\n",
        "from requests.structures import CaseInsensitiveDict"
      ],
      "execution_count": 4,
      "outputs": []
    },
    {
      "cell_type": "markdown",
      "metadata": {
        "id": "VeobNoNULG7M"
      },
      "source": [
        "**Set Endpoint URL**"
      ]
    },
    {
      "cell_type": "markdown",
      "metadata": {
        "id": "ylkqLFPxLN4l"
      },
      "source": [
        "We can set this URL to any listed on the [GitHub](https://github.com/LukePrior/Australian-Open-Banking-Data-Database#list-of-current-providers---96) page"
      ]
    },
    {
      "cell_type": "code",
      "metadata": {
        "id": "FSl1c5kULJ0u"
      },
      "source": [
        "url = \"https://api.anz/cds-au/v1\"\n",
        "suffix = \"/banking/products\""
      ],
      "execution_count": 9,
      "outputs": []
    },
    {
      "cell_type": "markdown",
      "metadata": {
        "id": "-B-qWI8dLqBX"
      },
      "source": [
        "**Set Headers**"
      ]
    },
    {
      "cell_type": "markdown",
      "metadata": {
        "id": "SO9eoemVL6zW"
      },
      "source": [
        "We need to include the neccessary headers as per the API standards. The only madatory header is `x-v` so we will include that. All available headers can be found [here](https://consumerdatastandardsaustralia.github.io/standards/#get-products)."
      ]
    },
    {
      "cell_type": "code",
      "metadata": {
        "id": "tim3YjKKMNRz"
      },
      "source": [
        "headers = CaseInsensitiveDict()\n",
        "headers[\"x-v\"] = \"2\""
      ],
      "execution_count": 10,
      "outputs": []
    },
    {
      "cell_type": "markdown",
      "metadata": {
        "id": "9iAYlEKHMQWi"
      },
      "source": [
        "**Fetch Result**"
      ]
    },
    {
      "cell_type": "markdown",
      "metadata": {
        "id": "YfPYQH8IMV3N"
      },
      "source": [
        "We can now send the API request and print the result."
      ]
    },
    {
      "cell_type": "code",
      "metadata": {
        "colab": {
          "base_uri": "https://localhost:8080/"
        },
        "id": "DDZijiuNMaXB",
        "outputId": "8531a579-1095-4fa5-939d-cf35d22e8778"
      },
      "source": [
        "resp = requests.get(url+suffix, headers=headers)\n",
        "\n",
        "print(resp.content)"
      ],
      "execution_count": 11,
      "outputs": [
        {
          "output_type": "stream",
          "text": [
            "b'{\"data\":{\"products\":[{\"additionalInformation\":{\"eligibilityUri\":\"https://www.anz.com.au/personal/credit-cards/rewards/travel-adventures/?CID=af:obank:cc#eligibility\",\"feesAndPricingUri\":\"https://www.anz.com.au/personal/credit-cards/rewards/travel-adventures/?CID=af:obank:cc#rates\",\"overviewUri\":\"https://www.anz.com.au/personal/credit-cards/rewards/travel-adventures?CID=af:obank:cc\",\"termsUri\":\"http://www.anz.com/auxiliary/rates-fees-terms/fees-terms-conditions/?CID=af:obank:cc\"},\"applicationUri\":\"https://creditcardapp.anz.com/#/?apptype=RTA\\\\u0026sourcecode_1=IWSV\\\\u0026CID=af:obank:cc\",\"brand\":\"ANZ\",\"cardArt\":[],\"description\":\"Get ready for your next adventure with the credit card that gets you travelling\",\"effectiveFrom\":\"2019-06-30T14:00:00.000Z\",\"isTailored\":false,\"lastUpdated\":\"2020-11-30T13:01:00.000Z\",\"name\":\"ANZ Rewards Travel Adventures\",\"productCategory\":\"CRED_AND_CHRG_CARDS\",\"productId\":\"28c4afac-12e0-2ac2-7091-e62dfdccfe53\"},{\"additionalInformation\":{\"eligibilityUri\":\"https://www.anz.com.au/personal/bank-accounts/term-deposits/advance-notice/?CID=af:obank:tv\",\"feesAndPricingUri\":\"https://www.anz.com.au/personal/bank-accounts/term-deposits/advance-notice/?CID=af:obank:tv\",\"overviewUri\":\"https://www.anz.com.au/personal/bank-accounts/term-deposits/advance-notice/?CID=af:obank:tv\",\"termsUri\":\"http://www.anz.com/auxiliary/rates-fees-terms/fees-terms-conditions/?\\\\u0026CID=af:obank:tv#FTPDS\"},\"applicationUri\":\"https://applyonline.anz.com/dsr-dep/deposits/apply?apptype=AN\\\\u0026sourcecode_1=QAA\\\\u0026CID=af:obank:sv\",\"brand\":\"ANZ\",\"cardArt\":[],\"description\":\"Enjoy the certainty of fixed returns over the investment term of your choice\",\"effectiveFrom\":\"2019-06-30T14:00:00.000Z\",\"isTailored\":false,\"lastUpdated\":\"2020-11-18T13:00:00.000Z\",\"name\":\"ANZ Advance Notice Term Deposit\",\"productCategory\":\"TERM_DEPOSITS\",\"productId\":\"2d41a5d3-0c8d-d5e9-cadc-195410627e08\"},{\"additionalInformation\":{\"eligibilityUri\":\"https://www.anz.com.au/business/products/accounts/specialist-accounts/farm-management-deposits/?CID=af:obank:ag\",\"feesAndPricingUri\":\"https://www.anz.com.au/business/products/accounts/specialist-accounts/farm-management-deposits/?CID=af:obank:ag\",\"overviewUri\":\"https://www.anz.com.au/business/products/accounts/specialist-accounts/farm-management-deposits/?CID=af:obank:ag\",\"termsUri\":\"https://www.anz.com.au/business/help-support/terms-conditions/?section=SBS\\\\u0026CID=af:obank:ag\"},\"brand\":\"ANZ\",\"cardArt\":[],\"description\":\"A tax efficient investment account for primary producers that can help you manage uneven cashflow\",\"effectiveFrom\":\"2020-06-30T14:00:00.000Z\",\"isTailored\":false,\"lastUpdated\":\"2020-11-18T13:00:00.000Z\",\"name\":\"Farm Management Deposit Fixed Term\",\"productCategory\":\"TRANS_AND_SAVINGS_ACCOUNTS\",\"productId\":\"34fde390-c762-4c5b-90f1-f65af6c0aa3b\"},{\"additionalInformation\":{\"eligibilityUri\":\"https://www.anz.com.au/personal/bank-accounts/savings-accounts/online-saver/?CID=af:obank:sv\",\"feesAndPricingUri\":\"https://www.anz.com.au/personal/bank-accounts/savings-accounts/online-saver/?CID=af:obank:sv\",\"overviewUri\":\"https://www.anz.com.au/personal/bank-accounts/savings-accounts/online-saver/?CID=af:obank:sv\",\"termsUri\":\"http://www.anz.com/auxiliary/rates-fees-terms/fees-terms-conditions/?CID=af:obank:sv#FTPDS\"},\"applicationUri\":\"https://applyonline.anz.com/dsr-dep/deposits/apply?apptype=OS\\\\u0026sourcecode_1=OCE\\\\u0026CID=af:obank:sv\",\"brand\":\"ANZ\",\"cardArt\":[],\"description\":\"An online savings account\",\"effectiveFrom\":\"2019-06-30T14:00:00.000Z\",\"isTailored\":false,\"lastUpdated\":\"2020-11-18T13:00:00.000Z\",\"name\":\"ANZ Online Saver\",\"productCategory\":\"TRANS_AND_SAVINGS_ACCOUNTS\",\"productId\":\"3776f456-9612-1354-70db-a165f84ef653\"},{\"additionalInformation\":{\"eligibilityUri\":\"https://www.anz.com.au/personal/bank-accounts/term-deposits/anz-term-deposit/?CID=af:obank:sv\",\"feesAndPricingUri\":\"https://www.anz.com.au/personal/bank-accounts/term-deposits/anz-term-deposit/?CID=af:obank:sv\",\"overviewUri\":\"https://www.anz.com.au/personal/bank-accounts/term-deposits/anz-term-deposit/?CID=af:obank:sv\",\"termsUri\":\"http://www.anz.com/auxiliary/rates-fees-terms/fees-terms-conditions/?CID=af:obank:sv#FTPDS\"},\"applicationUri\":\"https://applyonline.anz.com/dsr-dep/deposits/apply?apptype=TD\\\\u0026sourcecode_1=QRI\\\\u0026CID=af:obank:sv#!start\",\"brand\":\"ANZ\",\"cardArt\":[],\"description\":\"Enjoy the security of a fixed rate of interest over the investment term of your choice.\",\"effectiveFrom\":\"2019-06-30T14:00:00.000Z\",\"isTailored\":false,\"lastUpdated\":\"2020-11-18T13:00:00.000Z\",\"name\":\"ANZ Term Deposit\",\"productCategory\":\"TERM_DEPOSITS\",\"productId\":\"4438b7ed-e889-1ff0-4599-4524d5f55ae3\"},{\"additionalInformation\":{\"eligibilityUri\":\"https://www.anz.com.au/business/products/accounts/savings-accounts/business-term-deposit/?CID=af:obank:bb\",\"feesAndPricingUri\":\"https://www.anz.com.au/business/products/accounts/savings-accounts/business-term-deposit/?CID=af:obank:bb\",\"overviewUri\":\"https://www.anz.com.au/business/products/accounts/savings-accounts/business-term-deposit/?CID=af:obank:bb\",\"termsUri\":\"https://www.anz.com.au/business/help-support/terms-conditions/?section=SBS\\\\u0026CID=af:obank:bb\"},\"brand\":\"ANZ\",\"cardArt\":[],\"description\":\"Business term deposit with flexible terms requiring 31 days notice of withdrawal (fees apply)\",\"effectiveFrom\":\"2019-06-30T14:00:00.000Z\",\"isTailored\":false,\"lastUpdated\":\"2020-11-18T13:00:00.000Z\",\"name\":\"ANZ Business Notice Term Deposit\",\"productCategory\":\"TERM_DEPOSITS\",\"productId\":\"4740c27d-eb72-375d-2d25-ad256ed37b1e\"},{\"additionalInformation\":{\"eligibilityUri\":\"https://www.anz.com.au/personal/investing-super/online-share-investing/products/cash-investment-account/?CID=af:obank:xc\",\"feesAndPricingUri\":\"https://www.anz.com.au/personal/investing-super/online-share-investing/products/cash-investment-account/?CID=af:obank:xc\",\"overviewUri\":\"https://www.anz.com.au/personal/investing-super/online-share-investing/products/cash-investment-account/?CID=af:obank:xc\",\"termsUri\":\"http://www.anz.com/auxiliary/rates-fees-terms/fees-terms-conditions/?CID=af:obank:xc#FTPDS\"},\"applicationUri\":\"https://shareinvestingapp.anz.com/?CID=af:obank:xc\",\"brand\":\"ANZ\",\"cardArt\":[],\"description\":\"A simple account that lets you transact, trade and settle with your own cash.\",\"effectiveFrom\":\"2020-06-30T22:00:00.000Z\",\"isTailored\":false,\"lastUpdated\":\"2020-11-18T13:00:00.000Z\",\"name\":\"ANZ Cash Investment Account\",\"productCategory\":\"TRANS_AND_SAVINGS_ACCOUNTS\",\"productId\":\"9b385be6-5675-4750-9d94-60101e394a23\"},{\"additionalInformation\":{\"eligibilityUri\":\"https://www.anz.com.au/personal/bank-accounts/savings-accounts/progress-saver/?CID=af:obank:sv\",\"feesAndPricingUri\":\"https://www.anz.com.au/personal/bank-accounts/savings-accounts/progress-saver/?CID=af:obank:sv\",\"overviewUri\":\"https://www.anz.com.au/personal/bank-accounts/savings-accounts/progress-saver/?CID=af:obank:sv\",\"termsUri\":\"http://www.anz.com/auxiliary/rates-fees-terms/fees-terms-conditions/?CID=af:obank:sv#FTPDS\"},\"applicationUri\":\"https://applyonline.anz.com/dsr-dep/deposits/apply?apptype=PS\\\\u0026sourcecode_1=OCC\\\\u0026CID=af:obank:sv\",\"brand\":\"ANZ\",\"cardArt\":[],\"description\":\"Savings account where can earn bonus interest for saving regularly\",\"effectiveFrom\":\"2019-06-30T14:00:00.000Z\",\"isTailored\":false,\"lastUpdated\":\"2020-11-18T13:00:00.000Z\",\"name\":\"ANZ Progress Saver\",\"productCategory\":\"TRANS_AND_SAVINGS_ACCOUNTS\",\"productId\":\"e9a3b4fe-240c-388e-2282-42db8f570e63\"},{\"additionalInformation\":{\"eligibilityUri\":\"https://www.anz.com.au/personal/bank-accounts/smsf-cash-account/?CID=af:obank:iv\",\"feesAndPricingUri\":\"https://www.anz.com.au/personal/bank-accounts/smsf-cash-account/?CID=af:obank:iv\",\"overviewUri\":\"https://www.anz.com.au/personal/bank-accounts/smsf-cash-account/?CID=af:obank:iv\",\"termsUri\":\"http://www.anz.com/auxiliary/rates-fees-terms/fees-terms-conditions/?CID=af:obank:iv#FTPDS\"},\"brand\":\"ANZ\",\"cardArt\":[],\"description\":\"Self managed super is easier than ever, with all you need to use, move and manage your SMSF cash in one place.\",\"effectiveFrom\":\"2020-06-30T22:00:00.000Z\",\"isTailored\":false,\"lastUpdated\":\"2020-11-18T13:00:00.000Z\",\"name\":\"ANZ SMSF Cash Hub Account\",\"productCategory\":\"TRANS_AND_SAVINGS_ACCOUNTS\",\"productId\":\"ef5d9d5e-f822-4e9f-8b95-f0683115539f\"},{\"additionalInformation\":{\"eligibilityUri\":\"https://www.anz.com.au/personal/bank-accounts/everyday-accounts/pensioner-advantage/?CID=af:obank:tv\",\"feesAndPricingUri\":\"https://www.anz.com.au/personal/bank-accounts/everyday-accounts/pensioner-advantage/?CID=af:obank:tv\",\"overviewUri\":\"https://www.anz.com.au/personal/bank-accounts/everyday-accounts/pensioner-advantage/?CID=af:obank:tv\",\"termsUri\":\"http://www.anz.com/auxiliary/rates-fees-terms/fees-terms-conditions/?\\\\u0026CID=af:obank:tv#FTPDS\"},\"brand\":\"ANZ\",\"cardArt\":[],\"description\":\"Basic account for recipients of eligible Centrelink or Veterans\\' Affairs pension or allowance\",\"effectiveFrom\":\"2019-06-30T14:00:00.000Z\",\"isTailored\":false,\"lastUpdated\":\"2020-11-18T13:00:00.000Z\",\"name\":\"ANZ Pensioner Advantage Account\",\"productCategory\":\"TRANS_AND_SAVINGS_ACCOUNTS\",\"productId\":\"f9ec7ae4-f606-0e91-9403-d6ce664eb765\"},{\"additionalInformation\":{\"eligibilityUri\":\"https://www.anz.com.au/personal/home-loans/fixed-rate/?CID=af:obank:hl\",\"feesAndPricingUri\":\"https://www.anz.com.au/personal/home-loans/fixed-rate/?CID=af:obank:hl\",\"overviewUri\":\"https://www.anz.com.au/personal/home-loans/fixed-rate/?CID=af:obank:hl\",\"termsUri\":\"http://www.anz.com/auxiliary/rates-fees-terms/fees-terms-conditions/?CID=af:obank:hl#FTPDS\"},\"applicationUri\":\"https://www.anz.com.au/personal/home-loans/apply-home-loan/home-loan-application/?CID=af:obank:hl\",\"brand\":\"ANZ\",\"cardArt\":[],\"description\":\"The certainty of fixed repayments\",\"effectiveFrom\":\"2020-01-31T13:00:00.000Z\",\"isTailored\":false,\"lastUpdated\":\"2020-11-04T13:00:00.000Z\",\"name\":\"ANZ Fixed Loan (without Breakfree Package)\",\"productCategory\":\"RESIDENTIAL_MORTGAGES\",\"productId\":\"3a86f9e4-1b41-4222-9091-5934d1fc9178\"},{\"additionalInformation\":{\"bundleUri\":\"https://www.anz.com.au/personal/home-loans/package/\",\"eligibilityUri\":\"https://www.anz.com.au/personal/home-loans/package/?CID=af:obank:hl\",\"feesAndPricingUri\":\"https://www.anz.com.au/personal/home-loans/fixed-rate/?CID=af:obank:hl\",\"overviewUri\":\"https://www.anz.com.au/personal/home-loans/package/?CID=af:obank:hl\",\"termsUri\":\"http://www.anz.com/auxiliary/rates-fees-terms/fees-terms-conditions/?CID=af:obank:hl#FTPDS\"},\"applicationUri\":\"https://www.anz.com.au/personal/home-loans/apply-home-loan/home-loan-application/?CID=af:obank:hl\",\"brand\":\"ANZ\",\"cardArt\":[],\"description\":\"The certainty of fixed repayments. Bundle your home loan, everyday account and credit card into an ANZ Breakfree package with ongoing benefits and discounts\",\"effectiveFrom\":\"2020-01-31T13:00:00.000Z\",\"isTailored\":false,\"lastUpdated\":\"2020-11-04T13:00:00.000Z\",\"name\":\"ANZ Fixed Loan (with Breakfree Package)\",\"productCategory\":\"RESIDENTIAL_MORTGAGES\",\"productId\":\"3fb9e10c-6560-4471-83bc-c5edf92ebeef\"},{\"additionalInformation\":{\"eligibilityUri\":\"https://www.anz.com.au/personal/personal-loans/variable-rate/?CID=af:obank:pl#eligibility\",\"feesAndPricingUri\":\"https://www.anz.com.au/personal/personal-loans/variable-rate/?CID=af:obank:pl#rates\",\"overviewUri\":\"https://www.anz.com.au/personal/personal-loans/variable-rate/?CID=af:obank:pl\",\"termsUri\":\"http://www.anz.com/auxiliary/rates-fees-terms/fees-terms-conditions/?CID=af:obank:pl\"},\"applicationUri\":\"https://onlineapps.anz.com/personal-loan/?pcode=PLVR\\\\u0026CID=af:obank:pl#/start\",\"brand\":\"ANZ\",\"cardArt\":[],\"description\":\"Whether you\\'re looking to buy a new car, take a holiday, renovate your home or you want to consolidate debt, we could help you with an ANZ Variable Rate Personal Loan\",\"effectiveFrom\":\"2020-01-31T13:00:00.000Z\",\"isTailored\":false,\"lastUpdated\":\"2020-09-29T14:00:00.000Z\",\"name\":\"ANZ Variable Rate Personal Loan\",\"productCategory\":\"PERS_LOANS\",\"productId\":\"b4f9f303-2634-4b0d-94c5-84b6a8395920\"},{\"additionalInformation\":{\"eligibilityUri\":\"https://www.anz.com.au/personal/personal-loans/fixed-rate/?CID=af:obank:pl#eligibility\",\"feesAndPricingUri\":\"https://www.anz.com.au/personal/personal-loans/fixed-rate/?CID=af:obank:pl#rates\",\"overviewUri\":\"https://www.anz.com.au/personal/personal-loans/fixed-rate/?CID=af:obank:pl\",\"termsUri\":\"http://www.anz.com/auxiliary/rates-fees-terms/fees-terms-conditions/?CID=af:obank:pl\"},\"applicationUri\":\"https://onlineapps.anz.com/personal-loan/?pcode=PLFR\\\\u0026CID=af:obank:pl#/start\",\"brand\":\"ANZ\",\"cardArt\":[],\"description\":\"Get what you want with the certainty of fixed repayments\",\"effectiveFrom\":\"2020-01-31T13:00:00.000Z\",\"isTailored\":false,\"lastUpdated\":\"2020-09-29T14:00:00.000Z\",\"name\":\"ANZ Fixed Rate Personal Loan\",\"productCategory\":\"PERS_LOANS\",\"productId\":\"cbb832c8-9f1e-443f-99ed-da407a384f86\"},{\"additionalInformation\":{\"eligibilityUri\":\"https://www.anz.com.au/business/products/accounts/savings-accounts/premium-saver/?CID=af:obank:bb\",\"feesAndPricingUri\":\"https://www.anz.com.au/business/products/accounts/savings-accounts/premium-saver/?CID=af:obank:bb\",\"overviewUri\":\"https://www.anz.com.au/business/products/accounts/savings-accounts/premium-saver/?CID=af:obank:bb\",\"termsUri\":\"https://www.anz.com.au/business/help-support/terms-conditions/?section=SBS\\\\u0026CID=af:obank:bb\"},\"applicationUri\":\"https://onlineapps.anz.com/sbola/?#/?apptype=BPS\\\\u0026sourcecode_1=ANP\\\\u0026CID=af:obank:sv\",\"brand\":\"ANZ\",\"cardArt\":[],\"description\":\"Business account with competitive interest on business savings\",\"effectiveFrom\":\"2019-06-30T14:00:00.000Z\",\"isTailored\":false,\"lastUpdated\":\"2020-08-09T14:00:00.000Z\",\"name\":\"ANZ Business Premium Saver\",\"productCategory\":\"TRANS_AND_SAVINGS_ACCOUNTS\",\"productId\":\"9ee28889-8f88-4299-358c-c485bbedd6db\"},{\"additionalInformation\":{\"eligibilityUri\":\"https://www.anz.com.au/business/products/accounts/savings-accounts/online-saver/?CID=af:obank:bb\",\"feesAndPricingUri\":\"https://www.anz.com.au/business/products/accounts/savings-accounts/online-saver/?CID=af:obank:bb\",\"overviewUri\":\"https://www.anz.com.au/business/products/accounts/savings-accounts/online-saver/?CID=af:obank:bb\",\"termsUri\":\"https://www.anz.com.au/business/help-support/terms-conditions/?section=SBS\\\\u0026CID=af:obank:bb\"},\"brand\":\"ANZ\",\"cardArt\":[],\"description\":\"Online business investment account that\\'s linked to your everyday account\",\"effectiveFrom\":\"2019-06-30T14:00:00.000Z\",\"isTailored\":false,\"lastUpdated\":\"2020-08-09T14:00:00.000Z\",\"name\":\"ANZ Business Online Saver\",\"productCategory\":\"TRANS_AND_SAVINGS_ACCOUNTS\",\"productId\":\"a8233e0a-9552-1e7e-3847-1bff290266ef\"},{\"additionalInformation\":{\"eligibilityUri\":\"https://www.anz.com.au/business/products/accounts/specialist-accounts/statutory-accounts/?CID=af:obank:bb\",\"feesAndPricingUri\":\"https://www.anz.com.au/business/products/accounts/specialist-accounts/statutory-accounts/?CID=af:obank:bb\",\"overviewUri\":\"https://www.anz.com.au/business/products/accounts/specialist-accounts/statutory-accounts/?CID=af:obank:bb\",\"termsUri\":\"https://www.anz.com.au/content/dam/anzcomau/documents/pdf/statutory-trust-tc.pdf?CID=af:obank:bb\"},\"brand\":\"ANZ\",\"cardArt\":[],\"description\":\"A specialised trust account for real estate agents, conveyancers and solicitors to hold funds in trust for your clients\",\"effectiveFrom\":\"2020-06-30T14:00:00.000Z\",\"isTailored\":false,\"lastUpdated\":\"2020-06-30T22:00:00.000Z\",\"name\":\"ANZ Statutory Trust Account\",\"productCategory\":\"REGULATED_TRUST_ACCOUNTS\",\"productId\":\"033bead6-d89a-439b-901f-bc0631cf2c31\"},{\"additionalInformation\":{\"eligibilityUri\":\"http://www.anz.com/corporate/products-services/financing/business-loans/business-loan/?CID=af:obank:bb\",\"feesAndPricingUri\":\"http://www.anz.com/aus/ratefee/default.asp?section=CFS\\\\u0026CID=af:obank:bb\",\"overviewUri\":\"http://www.anz.com/corporate/products-services/financing/business-loans/business-loan/?CID=af:obank:bb\",\"termsUri\":\"http://www.anz.com/aus/ratefee/default.asp?section=CFS\\\\u0026CID=af:obank:bb\"},\"brand\":\"ANZ\",\"cardArt\":[],\"description\":\"With a choice of repayment options, our Business Loan lets you handpick the solutions that suit your business best\",\"effectiveFrom\":\"2020-06-30T14:00:00.000Z\",\"isTailored\":false,\"lastUpdated\":\"2020-06-30T22:00:00.000Z\",\"name\":\"ANZ Business Loan\",\"productCategory\":\"BUSINESS_LOANS\",\"productId\":\"1144a74f-dac2-4db9-ac6a-5ff2e4abd784\"},{\"additionalInformation\":{\"eligibilityUri\":\"https://www.anz.com.au/business/loans-finance/business-overdrafts/?CID=af:obank:bb\",\"feesAndPricingUri\":\"https://www.anz.com/aus/ratefee/default.asp?section=CFS\\\\u0026CID=af:obank:bb\",\"overviewUri\":\"https://www.anz.com.au/business/loans-finance/business-overdrafts/?CID=af:obank:bb\",\"termsUri\":\"https://www.anz.com/aus/ratefee/default.asp?section=CFS\\\\u0026CID=af:obank:bb\"},\"brand\":\"ANZ\",\"cardArt\":[],\"description\":\"Need help with cash flow? Our overdrafts offer flexible payment options and provide you with peace of mind.\",\"effectiveFrom\":\"2020-06-30T14:00:00.000Z\",\"isTailored\":true,\"lastUpdated\":\"2020-06-30T22:00:00.000Z\",\"name\":\"ANZ Business Overdraft\",\"productCategory\":\"OVERDRAFTS\",\"productId\":\"29d276fc-e46f-4302-a04b-cda03fe31e76\"},{\"additionalInformation\":{\"eligibilityUri\":\"http://www.anz.com/corporate/products-services/financing/business-loans/business-mortgage/?CID=af:obank:bb\",\"feesAndPricingUri\":\"http://www.anz.com/aus/ratefee/default.asp?section=CFS\\\\u0026CID=af:obank:bb\",\"overviewUri\":\"http://www.anz.com/corporate/products-services/financing/business-loans/business-mortgage/?CID=af:obank:bb\",\"termsUri\":\"http://www.anz.com/aus/ratefee/default.asp?section=CFS\\\\u0026CID=af:obank:bb\"},\"brand\":\"ANZ\",\"cardArt\":[],\"description\":\"With a choice of repayment options, our Business Mortgage lets you handpick the solutions that suit your business best\",\"effectiveFrom\":\"2020-06-30T14:00:00.000Z\",\"isTailored\":false,\"lastUpdated\":\"2020-06-30T22:00:00.000Z\",\"name\":\"ANZ Business Mortgage\",\"productCategory\":\"BUSINESS_LOANS\",\"productId\":\"520c8ae2-276c-4678-8f72-5367c80d830f\"},{\"additionalInformation\":{\"eligibilityUri\":\"https://www.anz.com.au/personal/personal-loans/overdrafts/personal-overdraft/?CID=af:obank:tv#eligibility\",\"feesAndPricingUri\":\"https://www.anz.com.au/personal/personal-loans/overdrafts/personal-overdraft/?CID=af:obank:tv#rates\",\"overviewUri\":\"https://www.anz.com.au/personal/personal-loans/overdrafts/personal-overdraft/?CID=af:obank:tv\",\"termsUri\":\"http://www.anz.com/auxiliary/rates-fees-terms/fees-terms-conditions/?CID=af:obank:tv#FTPDS\"},\"applicationUri\":\"https://www.anz.com.au/content/dam/anzcomau/documents/pdf/personal-overdraft-app-form.pdf?CID=af:obank:tv\",\"brand\":\"ANZ\",\"cardArt\":[],\"description\":\"Extra cash whenever you need it\",\"effectiveFrom\":\"2020-06-30T14:00:00.000Z\",\"isTailored\":false,\"lastUpdated\":\"2020-06-30T22:00:00.000Z\",\"name\":\"ANZ Personal Overdraft\",\"productCategory\":\"OVERDRAFTS\",\"productId\":\"5c365bbc-25c8-4c1b-b8f1-eff3056a37a1\"},{\"additionalInformation\":{\"eligibilityUri\":\"http://www.anz.com/personal/bank-accounts/microsite/adviser-services/anz-v2-plus/?CID=af:obank:sv\",\"feesAndPricingUri\":\"http://www.anz.com/personal/bank-accounts/microsite/adviser-services/anz-v2-plus/?CID=af:obank:sv\",\"overviewUri\":\"http://www.anz.com/personal/bank-accounts/microsite/adviser-services/anz-v2-plus/?CID=af:obank:sv\",\"termsUri\":\"http://www.anz.com/auxiliary/rates-fees-terms/fees-terms-conditions/?CID=af:obank:sv#FTPDS\"},\"applicationUri\":\"https://onlineapps.anz.com/third-party-deposit/?CID=af:obank:sv#/landing\",\"brand\":\"ANZ\",\"cardArt\":[],\"description\":\"Distributed via a range of approved Third Parties such as stockbrokers, accountants and SMSF administrators who open deposit accounts on behalf of their customers\",\"effectiveFrom\":\"2020-06-30T22:00:00.000Z\",\"isTailored\":false,\"lastUpdated\":\"2020-06-30T22:00:00.000Z\",\"name\":\"ANZ V2 PLUS\",\"productCategory\":\"TRANS_AND_SAVINGS_ACCOUNTS\",\"productId\":\"78df30d3-62c7-448d-b8ed-5da59894eb79\"},{\"additionalInformation\":{\"eligibilityUri\":\"https://www.anz.com.au/business/products/loans-finance/loans/asset-finance/?CID=af:obank:bb\",\"feesAndPricingUri\":\"https://www.anz.com.au/business/help-support/terms-conditions/?section=SBS\\\\u0026CID=af:obank:bb\",\"overviewUri\":\"https://www.anz.com.au/business/products/loans-finance/loans/asset-finance/?CID=af:obank:bb\",\"termsUri\":\"https://www.anz.com.au/business/help-support/terms-conditions/?section=SBS\\\\u0026CID=af:obank:bb\"},\"brand\":\"ANZ\",\"cardArt\":[],\"description\":\"With ANZ equipment finance, you can get the tools and machinery your business needs, with the option of tailoring your repayments to suit your cash flow\",\"effectiveFrom\":\"2020-06-30T14:00:00.000Z\",\"isTailored\":false,\"lastUpdated\":\"2020-06-30T22:00:00.000Z\",\"name\":\"ANZ Asset Finance\",\"productCategory\":\"BUSINESS_LOANS\",\"productId\":\"bb9843cd-bb64-41ac-bee4-f203b51acce2\"},{\"additionalInformation\":{\"eligibilityUri\":\"https://www.anz.com.au/personal/personal-loans/overdrafts/assured/?CID=af:obank:tv#eligibility\",\"feesAndPricingUri\":\"https://www.anz.com.au/personal/personal-loans/overdrafts/assured/?CID=af:obank:tv#rates\",\"overviewUri\":\"https://www.anz.com.au/personal/personal-loans/overdrafts/assured/?CID=af:obank:tv\",\"termsUri\":\"https://www.anz.com.au/content/dam/anzcomau/documents/pdf/assured-personal-overdraft-tc.pdf?CID=af:obank:tv\"},\"applicationUri\":\"http://www.anz.com.au/personal/personal-loans/forms/assured-application/?CID=af:obank:tv\",\"brand\":\"ANZ\",\"cardArt\":[],\"description\":\"When you need that little bit extra to cover unexpected expenses\",\"effectiveFrom\":\"2020-06-30T14:00:00.000Z\",\"isTailored\":false,\"lastUpdated\":\"2020-06-30T22:00:00.000Z\",\"name\":\"ANZ Assured Overdraft\",\"productCategory\":\"OVERDRAFTS\",\"productId\":\"f6527f3e-4f82-4b6e-a4dc-32cf5f4f32a8\"},{\"additionalInformation\":{\"eligibilityUri\":\"https://www.anz.com.au/business/products/accounts/specialist-accounts/farm-management-deposits/?CID=af:obank:ag\",\"feesAndPricingUri\":\"https://www.anz.com.au/business/products/accounts/specialist-accounts/farm-management-deposits/?CID=af:obank:ag\",\"overviewUri\":\"https://www.anz.com.au/business/products/accounts/specialist-accounts/farm-management-deposits/?CID=af:obank:ag\",\"termsUri\":\"https://www.anz.com.au/business/help-support/terms-conditions/?section=SBS\\\\u0026CID=af:obank:ag\"},\"brand\":\"ANZ\",\"cardArt\":[],\"description\":\"A tax efficient investment account for primary producers that can help you manage uneven cashflow\",\"effectiveFrom\":\"2020-06-30T14:00:00.000Z\",\"isTailored\":false,\"lastUpdated\":\"2020-06-30T14:00:00.000Z\",\"name\":\"Farm Management Deposit At Call\",\"productCategory\":\"TRANS_AND_SAVINGS_ACCOUNTS\",\"productId\":\"79c2b4dd-7c4d-4f06-b8b4-874eb2178e31\"}]},\"links\":{\"first\":\"https://api.anz/cds-au/v1/banking/products?page=1\\\\u0026page-size=25\",\"last\":\"https://api.anz/cds-au/v1/banking/products?page=2\\\\u0026page-size=25\",\"next\":\"https://api.anz/cds-au/v1/banking/products?page=2\\\\u0026page-size=25\",\"self\":\"https://api.anz/cds-au/v1/banking/products\"},\"meta\":{\"totalPages\":2,\"totalRecords\":50}}\\n'\n"
          ],
          "name": "stdout"
        }
      ]
    },
    {
      "cell_type": "markdown",
      "metadata": {
        "id": "5eDqaNZlMo6R"
      },
      "source": [
        "**Formatting Result**"
      ]
    },
    {
      "cell_type": "markdown",
      "metadata": {
        "id": "tW03T47sMr76"
      },
      "source": [
        "The API returns JSON, we can tell python to treat this data as a JSON object to make it easier to use and process."
      ]
    },
    {
      "cell_type": "code",
      "metadata": {
        "colab": {
          "base_uri": "https://localhost:8080/"
        },
        "id": "6qld7A8dMxce",
        "outputId": "03c16973-e865-49c6-8e40-46d1ebba6189"
      },
      "source": [
        "import json\n",
        "\n",
        "reply = json.loads(resp.content)\n",
        "\n",
        "print(reply)"
      ],
      "execution_count": 13,
      "outputs": [
        {
          "output_type": "stream",
          "text": [
            "{'data': {'products': [{'additionalInformation': {'eligibilityUri': 'https://www.anz.com.au/personal/credit-cards/rewards/travel-adventures/?CID=af:obank:cc#eligibility', 'feesAndPricingUri': 'https://www.anz.com.au/personal/credit-cards/rewards/travel-adventures/?CID=af:obank:cc#rates', 'overviewUri': 'https://www.anz.com.au/personal/credit-cards/rewards/travel-adventures?CID=af:obank:cc', 'termsUri': 'http://www.anz.com/auxiliary/rates-fees-terms/fees-terms-conditions/?CID=af:obank:cc'}, 'applicationUri': 'https://creditcardapp.anz.com/#/?apptype=RTA&sourcecode_1=IWSV&CID=af:obank:cc', 'brand': 'ANZ', 'cardArt': [], 'description': 'Get ready for your next adventure with the credit card that gets you travelling', 'effectiveFrom': '2019-06-30T14:00:00.000Z', 'isTailored': False, 'lastUpdated': '2020-11-30T13:01:00.000Z', 'name': 'ANZ Rewards Travel Adventures', 'productCategory': 'CRED_AND_CHRG_CARDS', 'productId': '28c4afac-12e0-2ac2-7091-e62dfdccfe53'}, {'additionalInformation': {'eligibilityUri': 'https://www.anz.com.au/personal/bank-accounts/term-deposits/advance-notice/?CID=af:obank:tv', 'feesAndPricingUri': 'https://www.anz.com.au/personal/bank-accounts/term-deposits/advance-notice/?CID=af:obank:tv', 'overviewUri': 'https://www.anz.com.au/personal/bank-accounts/term-deposits/advance-notice/?CID=af:obank:tv', 'termsUri': 'http://www.anz.com/auxiliary/rates-fees-terms/fees-terms-conditions/?&CID=af:obank:tv#FTPDS'}, 'applicationUri': 'https://applyonline.anz.com/dsr-dep/deposits/apply?apptype=AN&sourcecode_1=QAA&CID=af:obank:sv', 'brand': 'ANZ', 'cardArt': [], 'description': 'Enjoy the certainty of fixed returns over the investment term of your choice', 'effectiveFrom': '2019-06-30T14:00:00.000Z', 'isTailored': False, 'lastUpdated': '2020-11-18T13:00:00.000Z', 'name': 'ANZ Advance Notice Term Deposit', 'productCategory': 'TERM_DEPOSITS', 'productId': '2d41a5d3-0c8d-d5e9-cadc-195410627e08'}, {'additionalInformation': {'eligibilityUri': 'https://www.anz.com.au/business/products/accounts/specialist-accounts/farm-management-deposits/?CID=af:obank:ag', 'feesAndPricingUri': 'https://www.anz.com.au/business/products/accounts/specialist-accounts/farm-management-deposits/?CID=af:obank:ag', 'overviewUri': 'https://www.anz.com.au/business/products/accounts/specialist-accounts/farm-management-deposits/?CID=af:obank:ag', 'termsUri': 'https://www.anz.com.au/business/help-support/terms-conditions/?section=SBS&CID=af:obank:ag'}, 'brand': 'ANZ', 'cardArt': [], 'description': 'A tax efficient investment account for primary producers that can help you manage uneven cashflow', 'effectiveFrom': '2020-06-30T14:00:00.000Z', 'isTailored': False, 'lastUpdated': '2020-11-18T13:00:00.000Z', 'name': 'Farm Management Deposit Fixed Term', 'productCategory': 'TRANS_AND_SAVINGS_ACCOUNTS', 'productId': '34fde390-c762-4c5b-90f1-f65af6c0aa3b'}, {'additionalInformation': {'eligibilityUri': 'https://www.anz.com.au/personal/bank-accounts/savings-accounts/online-saver/?CID=af:obank:sv', 'feesAndPricingUri': 'https://www.anz.com.au/personal/bank-accounts/savings-accounts/online-saver/?CID=af:obank:sv', 'overviewUri': 'https://www.anz.com.au/personal/bank-accounts/savings-accounts/online-saver/?CID=af:obank:sv', 'termsUri': 'http://www.anz.com/auxiliary/rates-fees-terms/fees-terms-conditions/?CID=af:obank:sv#FTPDS'}, 'applicationUri': 'https://applyonline.anz.com/dsr-dep/deposits/apply?apptype=OS&sourcecode_1=OCE&CID=af:obank:sv', 'brand': 'ANZ', 'cardArt': [], 'description': 'An online savings account', 'effectiveFrom': '2019-06-30T14:00:00.000Z', 'isTailored': False, 'lastUpdated': '2020-11-18T13:00:00.000Z', 'name': 'ANZ Online Saver', 'productCategory': 'TRANS_AND_SAVINGS_ACCOUNTS', 'productId': '3776f456-9612-1354-70db-a165f84ef653'}, {'additionalInformation': {'eligibilityUri': 'https://www.anz.com.au/personal/bank-accounts/term-deposits/anz-term-deposit/?CID=af:obank:sv', 'feesAndPricingUri': 'https://www.anz.com.au/personal/bank-accounts/term-deposits/anz-term-deposit/?CID=af:obank:sv', 'overviewUri': 'https://www.anz.com.au/personal/bank-accounts/term-deposits/anz-term-deposit/?CID=af:obank:sv', 'termsUri': 'http://www.anz.com/auxiliary/rates-fees-terms/fees-terms-conditions/?CID=af:obank:sv#FTPDS'}, 'applicationUri': 'https://applyonline.anz.com/dsr-dep/deposits/apply?apptype=TD&sourcecode_1=QRI&CID=af:obank:sv#!start', 'brand': 'ANZ', 'cardArt': [], 'description': 'Enjoy the security of a fixed rate of interest over the investment term of your choice.', 'effectiveFrom': '2019-06-30T14:00:00.000Z', 'isTailored': False, 'lastUpdated': '2020-11-18T13:00:00.000Z', 'name': 'ANZ Term Deposit', 'productCategory': 'TERM_DEPOSITS', 'productId': '4438b7ed-e889-1ff0-4599-4524d5f55ae3'}, {'additionalInformation': {'eligibilityUri': 'https://www.anz.com.au/business/products/accounts/savings-accounts/business-term-deposit/?CID=af:obank:bb', 'feesAndPricingUri': 'https://www.anz.com.au/business/products/accounts/savings-accounts/business-term-deposit/?CID=af:obank:bb', 'overviewUri': 'https://www.anz.com.au/business/products/accounts/savings-accounts/business-term-deposit/?CID=af:obank:bb', 'termsUri': 'https://www.anz.com.au/business/help-support/terms-conditions/?section=SBS&CID=af:obank:bb'}, 'brand': 'ANZ', 'cardArt': [], 'description': 'Business term deposit with flexible terms requiring 31 days notice of withdrawal (fees apply)', 'effectiveFrom': '2019-06-30T14:00:00.000Z', 'isTailored': False, 'lastUpdated': '2020-11-18T13:00:00.000Z', 'name': 'ANZ Business Notice Term Deposit', 'productCategory': 'TERM_DEPOSITS', 'productId': '4740c27d-eb72-375d-2d25-ad256ed37b1e'}, {'additionalInformation': {'eligibilityUri': 'https://www.anz.com.au/personal/investing-super/online-share-investing/products/cash-investment-account/?CID=af:obank:xc', 'feesAndPricingUri': 'https://www.anz.com.au/personal/investing-super/online-share-investing/products/cash-investment-account/?CID=af:obank:xc', 'overviewUri': 'https://www.anz.com.au/personal/investing-super/online-share-investing/products/cash-investment-account/?CID=af:obank:xc', 'termsUri': 'http://www.anz.com/auxiliary/rates-fees-terms/fees-terms-conditions/?CID=af:obank:xc#FTPDS'}, 'applicationUri': 'https://shareinvestingapp.anz.com/?CID=af:obank:xc', 'brand': 'ANZ', 'cardArt': [], 'description': 'A simple account that lets you transact, trade and settle with your own cash.', 'effectiveFrom': '2020-06-30T22:00:00.000Z', 'isTailored': False, 'lastUpdated': '2020-11-18T13:00:00.000Z', 'name': 'ANZ Cash Investment Account', 'productCategory': 'TRANS_AND_SAVINGS_ACCOUNTS', 'productId': '9b385be6-5675-4750-9d94-60101e394a23'}, {'additionalInformation': {'eligibilityUri': 'https://www.anz.com.au/personal/bank-accounts/savings-accounts/progress-saver/?CID=af:obank:sv', 'feesAndPricingUri': 'https://www.anz.com.au/personal/bank-accounts/savings-accounts/progress-saver/?CID=af:obank:sv', 'overviewUri': 'https://www.anz.com.au/personal/bank-accounts/savings-accounts/progress-saver/?CID=af:obank:sv', 'termsUri': 'http://www.anz.com/auxiliary/rates-fees-terms/fees-terms-conditions/?CID=af:obank:sv#FTPDS'}, 'applicationUri': 'https://applyonline.anz.com/dsr-dep/deposits/apply?apptype=PS&sourcecode_1=OCC&CID=af:obank:sv', 'brand': 'ANZ', 'cardArt': [], 'description': 'Savings account where can earn bonus interest for saving regularly', 'effectiveFrom': '2019-06-30T14:00:00.000Z', 'isTailored': False, 'lastUpdated': '2020-11-18T13:00:00.000Z', 'name': 'ANZ Progress Saver', 'productCategory': 'TRANS_AND_SAVINGS_ACCOUNTS', 'productId': 'e9a3b4fe-240c-388e-2282-42db8f570e63'}, {'additionalInformation': {'eligibilityUri': 'https://www.anz.com.au/personal/bank-accounts/smsf-cash-account/?CID=af:obank:iv', 'feesAndPricingUri': 'https://www.anz.com.au/personal/bank-accounts/smsf-cash-account/?CID=af:obank:iv', 'overviewUri': 'https://www.anz.com.au/personal/bank-accounts/smsf-cash-account/?CID=af:obank:iv', 'termsUri': 'http://www.anz.com/auxiliary/rates-fees-terms/fees-terms-conditions/?CID=af:obank:iv#FTPDS'}, 'brand': 'ANZ', 'cardArt': [], 'description': 'Self managed super is easier than ever, with all you need to use, move and manage your SMSF cash in one place.', 'effectiveFrom': '2020-06-30T22:00:00.000Z', 'isTailored': False, 'lastUpdated': '2020-11-18T13:00:00.000Z', 'name': 'ANZ SMSF Cash Hub Account', 'productCategory': 'TRANS_AND_SAVINGS_ACCOUNTS', 'productId': 'ef5d9d5e-f822-4e9f-8b95-f0683115539f'}, {'additionalInformation': {'eligibilityUri': 'https://www.anz.com.au/personal/bank-accounts/everyday-accounts/pensioner-advantage/?CID=af:obank:tv', 'feesAndPricingUri': 'https://www.anz.com.au/personal/bank-accounts/everyday-accounts/pensioner-advantage/?CID=af:obank:tv', 'overviewUri': 'https://www.anz.com.au/personal/bank-accounts/everyday-accounts/pensioner-advantage/?CID=af:obank:tv', 'termsUri': 'http://www.anz.com/auxiliary/rates-fees-terms/fees-terms-conditions/?&CID=af:obank:tv#FTPDS'}, 'brand': 'ANZ', 'cardArt': [], 'description': \"Basic account for recipients of eligible Centrelink or Veterans' Affairs pension or allowance\", 'effectiveFrom': '2019-06-30T14:00:00.000Z', 'isTailored': False, 'lastUpdated': '2020-11-18T13:00:00.000Z', 'name': 'ANZ Pensioner Advantage Account', 'productCategory': 'TRANS_AND_SAVINGS_ACCOUNTS', 'productId': 'f9ec7ae4-f606-0e91-9403-d6ce664eb765'}, {'additionalInformation': {'eligibilityUri': 'https://www.anz.com.au/personal/home-loans/fixed-rate/?CID=af:obank:hl', 'feesAndPricingUri': 'https://www.anz.com.au/personal/home-loans/fixed-rate/?CID=af:obank:hl', 'overviewUri': 'https://www.anz.com.au/personal/home-loans/fixed-rate/?CID=af:obank:hl', 'termsUri': 'http://www.anz.com/auxiliary/rates-fees-terms/fees-terms-conditions/?CID=af:obank:hl#FTPDS'}, 'applicationUri': 'https://www.anz.com.au/personal/home-loans/apply-home-loan/home-loan-application/?CID=af:obank:hl', 'brand': 'ANZ', 'cardArt': [], 'description': 'The certainty of fixed repayments', 'effectiveFrom': '2020-01-31T13:00:00.000Z', 'isTailored': False, 'lastUpdated': '2020-11-04T13:00:00.000Z', 'name': 'ANZ Fixed Loan (without Breakfree Package)', 'productCategory': 'RESIDENTIAL_MORTGAGES', 'productId': '3a86f9e4-1b41-4222-9091-5934d1fc9178'}, {'additionalInformation': {'bundleUri': 'https://www.anz.com.au/personal/home-loans/package/', 'eligibilityUri': 'https://www.anz.com.au/personal/home-loans/package/?CID=af:obank:hl', 'feesAndPricingUri': 'https://www.anz.com.au/personal/home-loans/fixed-rate/?CID=af:obank:hl', 'overviewUri': 'https://www.anz.com.au/personal/home-loans/package/?CID=af:obank:hl', 'termsUri': 'http://www.anz.com/auxiliary/rates-fees-terms/fees-terms-conditions/?CID=af:obank:hl#FTPDS'}, 'applicationUri': 'https://www.anz.com.au/personal/home-loans/apply-home-loan/home-loan-application/?CID=af:obank:hl', 'brand': 'ANZ', 'cardArt': [], 'description': 'The certainty of fixed repayments. Bundle your home loan, everyday account and credit card into an ANZ Breakfree package with ongoing benefits and discounts', 'effectiveFrom': '2020-01-31T13:00:00.000Z', 'isTailored': False, 'lastUpdated': '2020-11-04T13:00:00.000Z', 'name': 'ANZ Fixed Loan (with Breakfree Package)', 'productCategory': 'RESIDENTIAL_MORTGAGES', 'productId': '3fb9e10c-6560-4471-83bc-c5edf92ebeef'}, {'additionalInformation': {'eligibilityUri': 'https://www.anz.com.au/personal/personal-loans/variable-rate/?CID=af:obank:pl#eligibility', 'feesAndPricingUri': 'https://www.anz.com.au/personal/personal-loans/variable-rate/?CID=af:obank:pl#rates', 'overviewUri': 'https://www.anz.com.au/personal/personal-loans/variable-rate/?CID=af:obank:pl', 'termsUri': 'http://www.anz.com/auxiliary/rates-fees-terms/fees-terms-conditions/?CID=af:obank:pl'}, 'applicationUri': 'https://onlineapps.anz.com/personal-loan/?pcode=PLVR&CID=af:obank:pl#/start', 'brand': 'ANZ', 'cardArt': [], 'description': \"Whether you're looking to buy a new car, take a holiday, renovate your home or you want to consolidate debt, we could help you with an ANZ Variable Rate Personal Loan\", 'effectiveFrom': '2020-01-31T13:00:00.000Z', 'isTailored': False, 'lastUpdated': '2020-09-29T14:00:00.000Z', 'name': 'ANZ Variable Rate Personal Loan', 'productCategory': 'PERS_LOANS', 'productId': 'b4f9f303-2634-4b0d-94c5-84b6a8395920'}, {'additionalInformation': {'eligibilityUri': 'https://www.anz.com.au/personal/personal-loans/fixed-rate/?CID=af:obank:pl#eligibility', 'feesAndPricingUri': 'https://www.anz.com.au/personal/personal-loans/fixed-rate/?CID=af:obank:pl#rates', 'overviewUri': 'https://www.anz.com.au/personal/personal-loans/fixed-rate/?CID=af:obank:pl', 'termsUri': 'http://www.anz.com/auxiliary/rates-fees-terms/fees-terms-conditions/?CID=af:obank:pl'}, 'applicationUri': 'https://onlineapps.anz.com/personal-loan/?pcode=PLFR&CID=af:obank:pl#/start', 'brand': 'ANZ', 'cardArt': [], 'description': 'Get what you want with the certainty of fixed repayments', 'effectiveFrom': '2020-01-31T13:00:00.000Z', 'isTailored': False, 'lastUpdated': '2020-09-29T14:00:00.000Z', 'name': 'ANZ Fixed Rate Personal Loan', 'productCategory': 'PERS_LOANS', 'productId': 'cbb832c8-9f1e-443f-99ed-da407a384f86'}, {'additionalInformation': {'eligibilityUri': 'https://www.anz.com.au/business/products/accounts/savings-accounts/premium-saver/?CID=af:obank:bb', 'feesAndPricingUri': 'https://www.anz.com.au/business/products/accounts/savings-accounts/premium-saver/?CID=af:obank:bb', 'overviewUri': 'https://www.anz.com.au/business/products/accounts/savings-accounts/premium-saver/?CID=af:obank:bb', 'termsUri': 'https://www.anz.com.au/business/help-support/terms-conditions/?section=SBS&CID=af:obank:bb'}, 'applicationUri': 'https://onlineapps.anz.com/sbola/?#/?apptype=BPS&sourcecode_1=ANP&CID=af:obank:sv', 'brand': 'ANZ', 'cardArt': [], 'description': 'Business account with competitive interest on business savings', 'effectiveFrom': '2019-06-30T14:00:00.000Z', 'isTailored': False, 'lastUpdated': '2020-08-09T14:00:00.000Z', 'name': 'ANZ Business Premium Saver', 'productCategory': 'TRANS_AND_SAVINGS_ACCOUNTS', 'productId': '9ee28889-8f88-4299-358c-c485bbedd6db'}, {'additionalInformation': {'eligibilityUri': 'https://www.anz.com.au/business/products/accounts/savings-accounts/online-saver/?CID=af:obank:bb', 'feesAndPricingUri': 'https://www.anz.com.au/business/products/accounts/savings-accounts/online-saver/?CID=af:obank:bb', 'overviewUri': 'https://www.anz.com.au/business/products/accounts/savings-accounts/online-saver/?CID=af:obank:bb', 'termsUri': 'https://www.anz.com.au/business/help-support/terms-conditions/?section=SBS&CID=af:obank:bb'}, 'brand': 'ANZ', 'cardArt': [], 'description': \"Online business investment account that's linked to your everyday account\", 'effectiveFrom': '2019-06-30T14:00:00.000Z', 'isTailored': False, 'lastUpdated': '2020-08-09T14:00:00.000Z', 'name': 'ANZ Business Online Saver', 'productCategory': 'TRANS_AND_SAVINGS_ACCOUNTS', 'productId': 'a8233e0a-9552-1e7e-3847-1bff290266ef'}, {'additionalInformation': {'eligibilityUri': 'https://www.anz.com.au/business/products/accounts/specialist-accounts/statutory-accounts/?CID=af:obank:bb', 'feesAndPricingUri': 'https://www.anz.com.au/business/products/accounts/specialist-accounts/statutory-accounts/?CID=af:obank:bb', 'overviewUri': 'https://www.anz.com.au/business/products/accounts/specialist-accounts/statutory-accounts/?CID=af:obank:bb', 'termsUri': 'https://www.anz.com.au/content/dam/anzcomau/documents/pdf/statutory-trust-tc.pdf?CID=af:obank:bb'}, 'brand': 'ANZ', 'cardArt': [], 'description': 'A specialised trust account for real estate agents, conveyancers and solicitors to hold funds in trust for your clients', 'effectiveFrom': '2020-06-30T14:00:00.000Z', 'isTailored': False, 'lastUpdated': '2020-06-30T22:00:00.000Z', 'name': 'ANZ Statutory Trust Account', 'productCategory': 'REGULATED_TRUST_ACCOUNTS', 'productId': '033bead6-d89a-439b-901f-bc0631cf2c31'}, {'additionalInformation': {'eligibilityUri': 'http://www.anz.com/corporate/products-services/financing/business-loans/business-loan/?CID=af:obank:bb', 'feesAndPricingUri': 'http://www.anz.com/aus/ratefee/default.asp?section=CFS&CID=af:obank:bb', 'overviewUri': 'http://www.anz.com/corporate/products-services/financing/business-loans/business-loan/?CID=af:obank:bb', 'termsUri': 'http://www.anz.com/aus/ratefee/default.asp?section=CFS&CID=af:obank:bb'}, 'brand': 'ANZ', 'cardArt': [], 'description': 'With a choice of repayment options, our Business Loan lets you handpick the solutions that suit your business best', 'effectiveFrom': '2020-06-30T14:00:00.000Z', 'isTailored': False, 'lastUpdated': '2020-06-30T22:00:00.000Z', 'name': 'ANZ Business Loan', 'productCategory': 'BUSINESS_LOANS', 'productId': '1144a74f-dac2-4db9-ac6a-5ff2e4abd784'}, {'additionalInformation': {'eligibilityUri': 'https://www.anz.com.au/business/loans-finance/business-overdrafts/?CID=af:obank:bb', 'feesAndPricingUri': 'https://www.anz.com/aus/ratefee/default.asp?section=CFS&CID=af:obank:bb', 'overviewUri': 'https://www.anz.com.au/business/loans-finance/business-overdrafts/?CID=af:obank:bb', 'termsUri': 'https://www.anz.com/aus/ratefee/default.asp?section=CFS&CID=af:obank:bb'}, 'brand': 'ANZ', 'cardArt': [], 'description': 'Need help with cash flow? Our overdrafts offer flexible payment options and provide you with peace of mind.', 'effectiveFrom': '2020-06-30T14:00:00.000Z', 'isTailored': True, 'lastUpdated': '2020-06-30T22:00:00.000Z', 'name': 'ANZ Business Overdraft', 'productCategory': 'OVERDRAFTS', 'productId': '29d276fc-e46f-4302-a04b-cda03fe31e76'}, {'additionalInformation': {'eligibilityUri': 'http://www.anz.com/corporate/products-services/financing/business-loans/business-mortgage/?CID=af:obank:bb', 'feesAndPricingUri': 'http://www.anz.com/aus/ratefee/default.asp?section=CFS&CID=af:obank:bb', 'overviewUri': 'http://www.anz.com/corporate/products-services/financing/business-loans/business-mortgage/?CID=af:obank:bb', 'termsUri': 'http://www.anz.com/aus/ratefee/default.asp?section=CFS&CID=af:obank:bb'}, 'brand': 'ANZ', 'cardArt': [], 'description': 'With a choice of repayment options, our Business Mortgage lets you handpick the solutions that suit your business best', 'effectiveFrom': '2020-06-30T14:00:00.000Z', 'isTailored': False, 'lastUpdated': '2020-06-30T22:00:00.000Z', 'name': 'ANZ Business Mortgage', 'productCategory': 'BUSINESS_LOANS', 'productId': '520c8ae2-276c-4678-8f72-5367c80d830f'}, {'additionalInformation': {'eligibilityUri': 'https://www.anz.com.au/personal/personal-loans/overdrafts/personal-overdraft/?CID=af:obank:tv#eligibility', 'feesAndPricingUri': 'https://www.anz.com.au/personal/personal-loans/overdrafts/personal-overdraft/?CID=af:obank:tv#rates', 'overviewUri': 'https://www.anz.com.au/personal/personal-loans/overdrafts/personal-overdraft/?CID=af:obank:tv', 'termsUri': 'http://www.anz.com/auxiliary/rates-fees-terms/fees-terms-conditions/?CID=af:obank:tv#FTPDS'}, 'applicationUri': 'https://www.anz.com.au/content/dam/anzcomau/documents/pdf/personal-overdraft-app-form.pdf?CID=af:obank:tv', 'brand': 'ANZ', 'cardArt': [], 'description': 'Extra cash whenever you need it', 'effectiveFrom': '2020-06-30T14:00:00.000Z', 'isTailored': False, 'lastUpdated': '2020-06-30T22:00:00.000Z', 'name': 'ANZ Personal Overdraft', 'productCategory': 'OVERDRAFTS', 'productId': '5c365bbc-25c8-4c1b-b8f1-eff3056a37a1'}, {'additionalInformation': {'eligibilityUri': 'http://www.anz.com/personal/bank-accounts/microsite/adviser-services/anz-v2-plus/?CID=af:obank:sv', 'feesAndPricingUri': 'http://www.anz.com/personal/bank-accounts/microsite/adviser-services/anz-v2-plus/?CID=af:obank:sv', 'overviewUri': 'http://www.anz.com/personal/bank-accounts/microsite/adviser-services/anz-v2-plus/?CID=af:obank:sv', 'termsUri': 'http://www.anz.com/auxiliary/rates-fees-terms/fees-terms-conditions/?CID=af:obank:sv#FTPDS'}, 'applicationUri': 'https://onlineapps.anz.com/third-party-deposit/?CID=af:obank:sv#/landing', 'brand': 'ANZ', 'cardArt': [], 'description': 'Distributed via a range of approved Third Parties such as stockbrokers, accountants and SMSF administrators who open deposit accounts on behalf of their customers', 'effectiveFrom': '2020-06-30T22:00:00.000Z', 'isTailored': False, 'lastUpdated': '2020-06-30T22:00:00.000Z', 'name': 'ANZ V2 PLUS', 'productCategory': 'TRANS_AND_SAVINGS_ACCOUNTS', 'productId': '78df30d3-62c7-448d-b8ed-5da59894eb79'}, {'additionalInformation': {'eligibilityUri': 'https://www.anz.com.au/business/products/loans-finance/loans/asset-finance/?CID=af:obank:bb', 'feesAndPricingUri': 'https://www.anz.com.au/business/help-support/terms-conditions/?section=SBS&CID=af:obank:bb', 'overviewUri': 'https://www.anz.com.au/business/products/loans-finance/loans/asset-finance/?CID=af:obank:bb', 'termsUri': 'https://www.anz.com.au/business/help-support/terms-conditions/?section=SBS&CID=af:obank:bb'}, 'brand': 'ANZ', 'cardArt': [], 'description': 'With ANZ equipment finance, you can get the tools and machinery your business needs, with the option of tailoring your repayments to suit your cash flow', 'effectiveFrom': '2020-06-30T14:00:00.000Z', 'isTailored': False, 'lastUpdated': '2020-06-30T22:00:00.000Z', 'name': 'ANZ Asset Finance', 'productCategory': 'BUSINESS_LOANS', 'productId': 'bb9843cd-bb64-41ac-bee4-f203b51acce2'}, {'additionalInformation': {'eligibilityUri': 'https://www.anz.com.au/personal/personal-loans/overdrafts/assured/?CID=af:obank:tv#eligibility', 'feesAndPricingUri': 'https://www.anz.com.au/personal/personal-loans/overdrafts/assured/?CID=af:obank:tv#rates', 'overviewUri': 'https://www.anz.com.au/personal/personal-loans/overdrafts/assured/?CID=af:obank:tv', 'termsUri': 'https://www.anz.com.au/content/dam/anzcomau/documents/pdf/assured-personal-overdraft-tc.pdf?CID=af:obank:tv'}, 'applicationUri': 'http://www.anz.com.au/personal/personal-loans/forms/assured-application/?CID=af:obank:tv', 'brand': 'ANZ', 'cardArt': [], 'description': 'When you need that little bit extra to cover unexpected expenses', 'effectiveFrom': '2020-06-30T14:00:00.000Z', 'isTailored': False, 'lastUpdated': '2020-06-30T22:00:00.000Z', 'name': 'ANZ Assured Overdraft', 'productCategory': 'OVERDRAFTS', 'productId': 'f6527f3e-4f82-4b6e-a4dc-32cf5f4f32a8'}, {'additionalInformation': {'eligibilityUri': 'https://www.anz.com.au/business/products/accounts/specialist-accounts/farm-management-deposits/?CID=af:obank:ag', 'feesAndPricingUri': 'https://www.anz.com.au/business/products/accounts/specialist-accounts/farm-management-deposits/?CID=af:obank:ag', 'overviewUri': 'https://www.anz.com.au/business/products/accounts/specialist-accounts/farm-management-deposits/?CID=af:obank:ag', 'termsUri': 'https://www.anz.com.au/business/help-support/terms-conditions/?section=SBS&CID=af:obank:ag'}, 'brand': 'ANZ', 'cardArt': [], 'description': 'A tax efficient investment account for primary producers that can help you manage uneven cashflow', 'effectiveFrom': '2020-06-30T14:00:00.000Z', 'isTailored': False, 'lastUpdated': '2020-06-30T14:00:00.000Z', 'name': 'Farm Management Deposit At Call', 'productCategory': 'TRANS_AND_SAVINGS_ACCOUNTS', 'productId': '79c2b4dd-7c4d-4f06-b8b4-874eb2178e31'}]}, 'links': {'first': 'https://api.anz/cds-au/v1/banking/products?page=1&page-size=25', 'last': 'https://api.anz/cds-au/v1/banking/products?page=2&page-size=25', 'next': 'https://api.anz/cds-au/v1/banking/products?page=2&page-size=25', 'self': 'https://api.anz/cds-au/v1/banking/products'}, 'meta': {'totalPages': 2, 'totalRecords': 50}}\n"
          ],
          "name": "stdout"
        }
      ]
    },
    {
      "cell_type": "markdown",
      "metadata": {
        "id": "zYYqvHJtNKf3"
      },
      "source": [
        "We can print the reply in a more readable way using pprint."
      ]
    },
    {
      "cell_type": "code",
      "metadata": {
        "colab": {
          "base_uri": "https://localhost:8080/"
        },
        "id": "gJSGK4A7NZPH",
        "outputId": "cc488407-8615-4d18-ea22-8dee8f604c93"
      },
      "source": [
        "import pprint\n",
        "\n",
        "pprint.pprint(reply)"
      ],
      "execution_count": 14,
      "outputs": [
        {
          "output_type": "stream",
          "text": [
            "{'data': {'products': [{'additionalInformation': {'eligibilityUri': 'https://www.anz.com.au/personal/credit-cards/rewards/travel-adventures/?CID=af:obank:cc#eligibility',\n",
            "                                                  'feesAndPricingUri': 'https://www.anz.com.au/personal/credit-cards/rewards/travel-adventures/?CID=af:obank:cc#rates',\n",
            "                                                  'overviewUri': 'https://www.anz.com.au/personal/credit-cards/rewards/travel-adventures?CID=af:obank:cc',\n",
            "                                                  'termsUri': 'http://www.anz.com/auxiliary/rates-fees-terms/fees-terms-conditions/?CID=af:obank:cc'},\n",
            "                        'applicationUri': 'https://creditcardapp.anz.com/#/?apptype=RTA&sourcecode_1=IWSV&CID=af:obank:cc',\n",
            "                        'brand': 'ANZ',\n",
            "                        'cardArt': [],\n",
            "                        'description': 'Get ready for your next adventure with '\n",
            "                                       'the credit card that gets you '\n",
            "                                       'travelling',\n",
            "                        'effectiveFrom': '2019-06-30T14:00:00.000Z',\n",
            "                        'isTailored': False,\n",
            "                        'lastUpdated': '2020-11-30T13:01:00.000Z',\n",
            "                        'name': 'ANZ Rewards Travel Adventures',\n",
            "                        'productCategory': 'CRED_AND_CHRG_CARDS',\n",
            "                        'productId': '28c4afac-12e0-2ac2-7091-e62dfdccfe53'},\n",
            "                       {'additionalInformation': {'eligibilityUri': 'https://www.anz.com.au/personal/bank-accounts/term-deposits/advance-notice/?CID=af:obank:tv',\n",
            "                                                  'feesAndPricingUri': 'https://www.anz.com.au/personal/bank-accounts/term-deposits/advance-notice/?CID=af:obank:tv',\n",
            "                                                  'overviewUri': 'https://www.anz.com.au/personal/bank-accounts/term-deposits/advance-notice/?CID=af:obank:tv',\n",
            "                                                  'termsUri': 'http://www.anz.com/auxiliary/rates-fees-terms/fees-terms-conditions/?&CID=af:obank:tv#FTPDS'},\n",
            "                        'applicationUri': 'https://applyonline.anz.com/dsr-dep/deposits/apply?apptype=AN&sourcecode_1=QAA&CID=af:obank:sv',\n",
            "                        'brand': 'ANZ',\n",
            "                        'cardArt': [],\n",
            "                        'description': 'Enjoy the certainty of fixed returns '\n",
            "                                       'over the investment term of your '\n",
            "                                       'choice',\n",
            "                        'effectiveFrom': '2019-06-30T14:00:00.000Z',\n",
            "                        'isTailored': False,\n",
            "                        'lastUpdated': '2020-11-18T13:00:00.000Z',\n",
            "                        'name': 'ANZ Advance Notice Term Deposit',\n",
            "                        'productCategory': 'TERM_DEPOSITS',\n",
            "                        'productId': '2d41a5d3-0c8d-d5e9-cadc-195410627e08'},\n",
            "                       {'additionalInformation': {'eligibilityUri': 'https://www.anz.com.au/business/products/accounts/specialist-accounts/farm-management-deposits/?CID=af:obank:ag',\n",
            "                                                  'feesAndPricingUri': 'https://www.anz.com.au/business/products/accounts/specialist-accounts/farm-management-deposits/?CID=af:obank:ag',\n",
            "                                                  'overviewUri': 'https://www.anz.com.au/business/products/accounts/specialist-accounts/farm-management-deposits/?CID=af:obank:ag',\n",
            "                                                  'termsUri': 'https://www.anz.com.au/business/help-support/terms-conditions/?section=SBS&CID=af:obank:ag'},\n",
            "                        'brand': 'ANZ',\n",
            "                        'cardArt': [],\n",
            "                        'description': 'A tax efficient investment account for '\n",
            "                                       'primary producers that can help you '\n",
            "                                       'manage uneven cashflow',\n",
            "                        'effectiveFrom': '2020-06-30T14:00:00.000Z',\n",
            "                        'isTailored': False,\n",
            "                        'lastUpdated': '2020-11-18T13:00:00.000Z',\n",
            "                        'name': 'Farm Management Deposit Fixed Term',\n",
            "                        'productCategory': 'TRANS_AND_SAVINGS_ACCOUNTS',\n",
            "                        'productId': '34fde390-c762-4c5b-90f1-f65af6c0aa3b'},\n",
            "                       {'additionalInformation': {'eligibilityUri': 'https://www.anz.com.au/personal/bank-accounts/savings-accounts/online-saver/?CID=af:obank:sv',\n",
            "                                                  'feesAndPricingUri': 'https://www.anz.com.au/personal/bank-accounts/savings-accounts/online-saver/?CID=af:obank:sv',\n",
            "                                                  'overviewUri': 'https://www.anz.com.au/personal/bank-accounts/savings-accounts/online-saver/?CID=af:obank:sv',\n",
            "                                                  'termsUri': 'http://www.anz.com/auxiliary/rates-fees-terms/fees-terms-conditions/?CID=af:obank:sv#FTPDS'},\n",
            "                        'applicationUri': 'https://applyonline.anz.com/dsr-dep/deposits/apply?apptype=OS&sourcecode_1=OCE&CID=af:obank:sv',\n",
            "                        'brand': 'ANZ',\n",
            "                        'cardArt': [],\n",
            "                        'description': 'An online savings account',\n",
            "                        'effectiveFrom': '2019-06-30T14:00:00.000Z',\n",
            "                        'isTailored': False,\n",
            "                        'lastUpdated': '2020-11-18T13:00:00.000Z',\n",
            "                        'name': 'ANZ Online Saver',\n",
            "                        'productCategory': 'TRANS_AND_SAVINGS_ACCOUNTS',\n",
            "                        'productId': '3776f456-9612-1354-70db-a165f84ef653'},\n",
            "                       {'additionalInformation': {'eligibilityUri': 'https://www.anz.com.au/personal/bank-accounts/term-deposits/anz-term-deposit/?CID=af:obank:sv',\n",
            "                                                  'feesAndPricingUri': 'https://www.anz.com.au/personal/bank-accounts/term-deposits/anz-term-deposit/?CID=af:obank:sv',\n",
            "                                                  'overviewUri': 'https://www.anz.com.au/personal/bank-accounts/term-deposits/anz-term-deposit/?CID=af:obank:sv',\n",
            "                                                  'termsUri': 'http://www.anz.com/auxiliary/rates-fees-terms/fees-terms-conditions/?CID=af:obank:sv#FTPDS'},\n",
            "                        'applicationUri': 'https://applyonline.anz.com/dsr-dep/deposits/apply?apptype=TD&sourcecode_1=QRI&CID=af:obank:sv#!start',\n",
            "                        'brand': 'ANZ',\n",
            "                        'cardArt': [],\n",
            "                        'description': 'Enjoy the security of a fixed rate of '\n",
            "                                       'interest over the investment term of '\n",
            "                                       'your choice.',\n",
            "                        'effectiveFrom': '2019-06-30T14:00:00.000Z',\n",
            "                        'isTailored': False,\n",
            "                        'lastUpdated': '2020-11-18T13:00:00.000Z',\n",
            "                        'name': 'ANZ Term Deposit',\n",
            "                        'productCategory': 'TERM_DEPOSITS',\n",
            "                        'productId': '4438b7ed-e889-1ff0-4599-4524d5f55ae3'},\n",
            "                       {'additionalInformation': {'eligibilityUri': 'https://www.anz.com.au/business/products/accounts/savings-accounts/business-term-deposit/?CID=af:obank:bb',\n",
            "                                                  'feesAndPricingUri': 'https://www.anz.com.au/business/products/accounts/savings-accounts/business-term-deposit/?CID=af:obank:bb',\n",
            "                                                  'overviewUri': 'https://www.anz.com.au/business/products/accounts/savings-accounts/business-term-deposit/?CID=af:obank:bb',\n",
            "                                                  'termsUri': 'https://www.anz.com.au/business/help-support/terms-conditions/?section=SBS&CID=af:obank:bb'},\n",
            "                        'brand': 'ANZ',\n",
            "                        'cardArt': [],\n",
            "                        'description': 'Business term deposit with flexible '\n",
            "                                       'terms requiring 31 days notice of '\n",
            "                                       'withdrawal (fees apply)',\n",
            "                        'effectiveFrom': '2019-06-30T14:00:00.000Z',\n",
            "                        'isTailored': False,\n",
            "                        'lastUpdated': '2020-11-18T13:00:00.000Z',\n",
            "                        'name': 'ANZ Business Notice Term Deposit',\n",
            "                        'productCategory': 'TERM_DEPOSITS',\n",
            "                        'productId': '4740c27d-eb72-375d-2d25-ad256ed37b1e'},\n",
            "                       {'additionalInformation': {'eligibilityUri': 'https://www.anz.com.au/personal/investing-super/online-share-investing/products/cash-investment-account/?CID=af:obank:xc',\n",
            "                                                  'feesAndPricingUri': 'https://www.anz.com.au/personal/investing-super/online-share-investing/products/cash-investment-account/?CID=af:obank:xc',\n",
            "                                                  'overviewUri': 'https://www.anz.com.au/personal/investing-super/online-share-investing/products/cash-investment-account/?CID=af:obank:xc',\n",
            "                                                  'termsUri': 'http://www.anz.com/auxiliary/rates-fees-terms/fees-terms-conditions/?CID=af:obank:xc#FTPDS'},\n",
            "                        'applicationUri': 'https://shareinvestingapp.anz.com/?CID=af:obank:xc',\n",
            "                        'brand': 'ANZ',\n",
            "                        'cardArt': [],\n",
            "                        'description': 'A simple account that lets you '\n",
            "                                       'transact, trade and settle with your '\n",
            "                                       'own cash.',\n",
            "                        'effectiveFrom': '2020-06-30T22:00:00.000Z',\n",
            "                        'isTailored': False,\n",
            "                        'lastUpdated': '2020-11-18T13:00:00.000Z',\n",
            "                        'name': 'ANZ Cash Investment Account',\n",
            "                        'productCategory': 'TRANS_AND_SAVINGS_ACCOUNTS',\n",
            "                        'productId': '9b385be6-5675-4750-9d94-60101e394a23'},\n",
            "                       {'additionalInformation': {'eligibilityUri': 'https://www.anz.com.au/personal/bank-accounts/savings-accounts/progress-saver/?CID=af:obank:sv',\n",
            "                                                  'feesAndPricingUri': 'https://www.anz.com.au/personal/bank-accounts/savings-accounts/progress-saver/?CID=af:obank:sv',\n",
            "                                                  'overviewUri': 'https://www.anz.com.au/personal/bank-accounts/savings-accounts/progress-saver/?CID=af:obank:sv',\n",
            "                                                  'termsUri': 'http://www.anz.com/auxiliary/rates-fees-terms/fees-terms-conditions/?CID=af:obank:sv#FTPDS'},\n",
            "                        'applicationUri': 'https://applyonline.anz.com/dsr-dep/deposits/apply?apptype=PS&sourcecode_1=OCC&CID=af:obank:sv',\n",
            "                        'brand': 'ANZ',\n",
            "                        'cardArt': [],\n",
            "                        'description': 'Savings account where can earn bonus '\n",
            "                                       'interest for saving regularly',\n",
            "                        'effectiveFrom': '2019-06-30T14:00:00.000Z',\n",
            "                        'isTailored': False,\n",
            "                        'lastUpdated': '2020-11-18T13:00:00.000Z',\n",
            "                        'name': 'ANZ Progress Saver',\n",
            "                        'productCategory': 'TRANS_AND_SAVINGS_ACCOUNTS',\n",
            "                        'productId': 'e9a3b4fe-240c-388e-2282-42db8f570e63'},\n",
            "                       {'additionalInformation': {'eligibilityUri': 'https://www.anz.com.au/personal/bank-accounts/smsf-cash-account/?CID=af:obank:iv',\n",
            "                                                  'feesAndPricingUri': 'https://www.anz.com.au/personal/bank-accounts/smsf-cash-account/?CID=af:obank:iv',\n",
            "                                                  'overviewUri': 'https://www.anz.com.au/personal/bank-accounts/smsf-cash-account/?CID=af:obank:iv',\n",
            "                                                  'termsUri': 'http://www.anz.com/auxiliary/rates-fees-terms/fees-terms-conditions/?CID=af:obank:iv#FTPDS'},\n",
            "                        'brand': 'ANZ',\n",
            "                        'cardArt': [],\n",
            "                        'description': 'Self managed super is easier than '\n",
            "                                       'ever, with all you need to use, move '\n",
            "                                       'and manage your SMSF cash in one '\n",
            "                                       'place.',\n",
            "                        'effectiveFrom': '2020-06-30T22:00:00.000Z',\n",
            "                        'isTailored': False,\n",
            "                        'lastUpdated': '2020-11-18T13:00:00.000Z',\n",
            "                        'name': 'ANZ SMSF Cash Hub Account',\n",
            "                        'productCategory': 'TRANS_AND_SAVINGS_ACCOUNTS',\n",
            "                        'productId': 'ef5d9d5e-f822-4e9f-8b95-f0683115539f'},\n",
            "                       {'additionalInformation': {'eligibilityUri': 'https://www.anz.com.au/personal/bank-accounts/everyday-accounts/pensioner-advantage/?CID=af:obank:tv',\n",
            "                                                  'feesAndPricingUri': 'https://www.anz.com.au/personal/bank-accounts/everyday-accounts/pensioner-advantage/?CID=af:obank:tv',\n",
            "                                                  'overviewUri': 'https://www.anz.com.au/personal/bank-accounts/everyday-accounts/pensioner-advantage/?CID=af:obank:tv',\n",
            "                                                  'termsUri': 'http://www.anz.com/auxiliary/rates-fees-terms/fees-terms-conditions/?&CID=af:obank:tv#FTPDS'},\n",
            "                        'brand': 'ANZ',\n",
            "                        'cardArt': [],\n",
            "                        'description': 'Basic account for recipients of '\n",
            "                                       \"eligible Centrelink or Veterans' \"\n",
            "                                       'Affairs pension or allowance',\n",
            "                        'effectiveFrom': '2019-06-30T14:00:00.000Z',\n",
            "                        'isTailored': False,\n",
            "                        'lastUpdated': '2020-11-18T13:00:00.000Z',\n",
            "                        'name': 'ANZ Pensioner Advantage Account',\n",
            "                        'productCategory': 'TRANS_AND_SAVINGS_ACCOUNTS',\n",
            "                        'productId': 'f9ec7ae4-f606-0e91-9403-d6ce664eb765'},\n",
            "                       {'additionalInformation': {'eligibilityUri': 'https://www.anz.com.au/personal/home-loans/fixed-rate/?CID=af:obank:hl',\n",
            "                                                  'feesAndPricingUri': 'https://www.anz.com.au/personal/home-loans/fixed-rate/?CID=af:obank:hl',\n",
            "                                                  'overviewUri': 'https://www.anz.com.au/personal/home-loans/fixed-rate/?CID=af:obank:hl',\n",
            "                                                  'termsUri': 'http://www.anz.com/auxiliary/rates-fees-terms/fees-terms-conditions/?CID=af:obank:hl#FTPDS'},\n",
            "                        'applicationUri': 'https://www.anz.com.au/personal/home-loans/apply-home-loan/home-loan-application/?CID=af:obank:hl',\n",
            "                        'brand': 'ANZ',\n",
            "                        'cardArt': [],\n",
            "                        'description': 'The certainty of fixed repayments',\n",
            "                        'effectiveFrom': '2020-01-31T13:00:00.000Z',\n",
            "                        'isTailored': False,\n",
            "                        'lastUpdated': '2020-11-04T13:00:00.000Z',\n",
            "                        'name': 'ANZ Fixed Loan (without Breakfree Package)',\n",
            "                        'productCategory': 'RESIDENTIAL_MORTGAGES',\n",
            "                        'productId': '3a86f9e4-1b41-4222-9091-5934d1fc9178'},\n",
            "                       {'additionalInformation': {'bundleUri': 'https://www.anz.com.au/personal/home-loans/package/',\n",
            "                                                  'eligibilityUri': 'https://www.anz.com.au/personal/home-loans/package/?CID=af:obank:hl',\n",
            "                                                  'feesAndPricingUri': 'https://www.anz.com.au/personal/home-loans/fixed-rate/?CID=af:obank:hl',\n",
            "                                                  'overviewUri': 'https://www.anz.com.au/personal/home-loans/package/?CID=af:obank:hl',\n",
            "                                                  'termsUri': 'http://www.anz.com/auxiliary/rates-fees-terms/fees-terms-conditions/?CID=af:obank:hl#FTPDS'},\n",
            "                        'applicationUri': 'https://www.anz.com.au/personal/home-loans/apply-home-loan/home-loan-application/?CID=af:obank:hl',\n",
            "                        'brand': 'ANZ',\n",
            "                        'cardArt': [],\n",
            "                        'description': 'The certainty of fixed repayments. '\n",
            "                                       'Bundle your home loan, everyday '\n",
            "                                       'account and credit card into an ANZ '\n",
            "                                       'Breakfree package with ongoing '\n",
            "                                       'benefits and discounts',\n",
            "                        'effectiveFrom': '2020-01-31T13:00:00.000Z',\n",
            "                        'isTailored': False,\n",
            "                        'lastUpdated': '2020-11-04T13:00:00.000Z',\n",
            "                        'name': 'ANZ Fixed Loan (with Breakfree Package)',\n",
            "                        'productCategory': 'RESIDENTIAL_MORTGAGES',\n",
            "                        'productId': '3fb9e10c-6560-4471-83bc-c5edf92ebeef'},\n",
            "                       {'additionalInformation': {'eligibilityUri': 'https://www.anz.com.au/personal/personal-loans/variable-rate/?CID=af:obank:pl#eligibility',\n",
            "                                                  'feesAndPricingUri': 'https://www.anz.com.au/personal/personal-loans/variable-rate/?CID=af:obank:pl#rates',\n",
            "                                                  'overviewUri': 'https://www.anz.com.au/personal/personal-loans/variable-rate/?CID=af:obank:pl',\n",
            "                                                  'termsUri': 'http://www.anz.com/auxiliary/rates-fees-terms/fees-terms-conditions/?CID=af:obank:pl'},\n",
            "                        'applicationUri': 'https://onlineapps.anz.com/personal-loan/?pcode=PLVR&CID=af:obank:pl#/start',\n",
            "                        'brand': 'ANZ',\n",
            "                        'cardArt': [],\n",
            "                        'description': \"Whether you're looking to buy a new \"\n",
            "                                       'car, take a holiday, renovate your '\n",
            "                                       'home or you want to consolidate debt, '\n",
            "                                       'we could help you with an ANZ Variable '\n",
            "                                       'Rate Personal Loan',\n",
            "                        'effectiveFrom': '2020-01-31T13:00:00.000Z',\n",
            "                        'isTailored': False,\n",
            "                        'lastUpdated': '2020-09-29T14:00:00.000Z',\n",
            "                        'name': 'ANZ Variable Rate Personal Loan',\n",
            "                        'productCategory': 'PERS_LOANS',\n",
            "                        'productId': 'b4f9f303-2634-4b0d-94c5-84b6a8395920'},\n",
            "                       {'additionalInformation': {'eligibilityUri': 'https://www.anz.com.au/personal/personal-loans/fixed-rate/?CID=af:obank:pl#eligibility',\n",
            "                                                  'feesAndPricingUri': 'https://www.anz.com.au/personal/personal-loans/fixed-rate/?CID=af:obank:pl#rates',\n",
            "                                                  'overviewUri': 'https://www.anz.com.au/personal/personal-loans/fixed-rate/?CID=af:obank:pl',\n",
            "                                                  'termsUri': 'http://www.anz.com/auxiliary/rates-fees-terms/fees-terms-conditions/?CID=af:obank:pl'},\n",
            "                        'applicationUri': 'https://onlineapps.anz.com/personal-loan/?pcode=PLFR&CID=af:obank:pl#/start',\n",
            "                        'brand': 'ANZ',\n",
            "                        'cardArt': [],\n",
            "                        'description': 'Get what you want with the certainty '\n",
            "                                       'of fixed repayments',\n",
            "                        'effectiveFrom': '2020-01-31T13:00:00.000Z',\n",
            "                        'isTailored': False,\n",
            "                        'lastUpdated': '2020-09-29T14:00:00.000Z',\n",
            "                        'name': 'ANZ Fixed Rate Personal Loan',\n",
            "                        'productCategory': 'PERS_LOANS',\n",
            "                        'productId': 'cbb832c8-9f1e-443f-99ed-da407a384f86'},\n",
            "                       {'additionalInformation': {'eligibilityUri': 'https://www.anz.com.au/business/products/accounts/savings-accounts/premium-saver/?CID=af:obank:bb',\n",
            "                                                  'feesAndPricingUri': 'https://www.anz.com.au/business/products/accounts/savings-accounts/premium-saver/?CID=af:obank:bb',\n",
            "                                                  'overviewUri': 'https://www.anz.com.au/business/products/accounts/savings-accounts/premium-saver/?CID=af:obank:bb',\n",
            "                                                  'termsUri': 'https://www.anz.com.au/business/help-support/terms-conditions/?section=SBS&CID=af:obank:bb'},\n",
            "                        'applicationUri': 'https://onlineapps.anz.com/sbola/?#/?apptype=BPS&sourcecode_1=ANP&CID=af:obank:sv',\n",
            "                        'brand': 'ANZ',\n",
            "                        'cardArt': [],\n",
            "                        'description': 'Business account with competitive '\n",
            "                                       'interest on business savings',\n",
            "                        'effectiveFrom': '2019-06-30T14:00:00.000Z',\n",
            "                        'isTailored': False,\n",
            "                        'lastUpdated': '2020-08-09T14:00:00.000Z',\n",
            "                        'name': 'ANZ Business Premium Saver',\n",
            "                        'productCategory': 'TRANS_AND_SAVINGS_ACCOUNTS',\n",
            "                        'productId': '9ee28889-8f88-4299-358c-c485bbedd6db'},\n",
            "                       {'additionalInformation': {'eligibilityUri': 'https://www.anz.com.au/business/products/accounts/savings-accounts/online-saver/?CID=af:obank:bb',\n",
            "                                                  'feesAndPricingUri': 'https://www.anz.com.au/business/products/accounts/savings-accounts/online-saver/?CID=af:obank:bb',\n",
            "                                                  'overviewUri': 'https://www.anz.com.au/business/products/accounts/savings-accounts/online-saver/?CID=af:obank:bb',\n",
            "                                                  'termsUri': 'https://www.anz.com.au/business/help-support/terms-conditions/?section=SBS&CID=af:obank:bb'},\n",
            "                        'brand': 'ANZ',\n",
            "                        'cardArt': [],\n",
            "                        'description': 'Online business investment account '\n",
            "                                       \"that's linked to your everyday account\",\n",
            "                        'effectiveFrom': '2019-06-30T14:00:00.000Z',\n",
            "                        'isTailored': False,\n",
            "                        'lastUpdated': '2020-08-09T14:00:00.000Z',\n",
            "                        'name': 'ANZ Business Online Saver',\n",
            "                        'productCategory': 'TRANS_AND_SAVINGS_ACCOUNTS',\n",
            "                        'productId': 'a8233e0a-9552-1e7e-3847-1bff290266ef'},\n",
            "                       {'additionalInformation': {'eligibilityUri': 'https://www.anz.com.au/business/products/accounts/specialist-accounts/statutory-accounts/?CID=af:obank:bb',\n",
            "                                                  'feesAndPricingUri': 'https://www.anz.com.au/business/products/accounts/specialist-accounts/statutory-accounts/?CID=af:obank:bb',\n",
            "                                                  'overviewUri': 'https://www.anz.com.au/business/products/accounts/specialist-accounts/statutory-accounts/?CID=af:obank:bb',\n",
            "                                                  'termsUri': 'https://www.anz.com.au/content/dam/anzcomau/documents/pdf/statutory-trust-tc.pdf?CID=af:obank:bb'},\n",
            "                        'brand': 'ANZ',\n",
            "                        'cardArt': [],\n",
            "                        'description': 'A specialised trust account for real '\n",
            "                                       'estate agents, conveyancers and '\n",
            "                                       'solicitors to hold funds in trust for '\n",
            "                                       'your clients',\n",
            "                        'effectiveFrom': '2020-06-30T14:00:00.000Z',\n",
            "                        'isTailored': False,\n",
            "                        'lastUpdated': '2020-06-30T22:00:00.000Z',\n",
            "                        'name': 'ANZ Statutory Trust Account',\n",
            "                        'productCategory': 'REGULATED_TRUST_ACCOUNTS',\n",
            "                        'productId': '033bead6-d89a-439b-901f-bc0631cf2c31'},\n",
            "                       {'additionalInformation': {'eligibilityUri': 'http://www.anz.com/corporate/products-services/financing/business-loans/business-loan/?CID=af:obank:bb',\n",
            "                                                  'feesAndPricingUri': 'http://www.anz.com/aus/ratefee/default.asp?section=CFS&CID=af:obank:bb',\n",
            "                                                  'overviewUri': 'http://www.anz.com/corporate/products-services/financing/business-loans/business-loan/?CID=af:obank:bb',\n",
            "                                                  'termsUri': 'http://www.anz.com/aus/ratefee/default.asp?section=CFS&CID=af:obank:bb'},\n",
            "                        'brand': 'ANZ',\n",
            "                        'cardArt': [],\n",
            "                        'description': 'With a choice of repayment options, '\n",
            "                                       'our Business Loan lets you handpick '\n",
            "                                       'the solutions that suit your business '\n",
            "                                       'best',\n",
            "                        'effectiveFrom': '2020-06-30T14:00:00.000Z',\n",
            "                        'isTailored': False,\n",
            "                        'lastUpdated': '2020-06-30T22:00:00.000Z',\n",
            "                        'name': 'ANZ Business Loan',\n",
            "                        'productCategory': 'BUSINESS_LOANS',\n",
            "                        'productId': '1144a74f-dac2-4db9-ac6a-5ff2e4abd784'},\n",
            "                       {'additionalInformation': {'eligibilityUri': 'https://www.anz.com.au/business/loans-finance/business-overdrafts/?CID=af:obank:bb',\n",
            "                                                  'feesAndPricingUri': 'https://www.anz.com/aus/ratefee/default.asp?section=CFS&CID=af:obank:bb',\n",
            "                                                  'overviewUri': 'https://www.anz.com.au/business/loans-finance/business-overdrafts/?CID=af:obank:bb',\n",
            "                                                  'termsUri': 'https://www.anz.com/aus/ratefee/default.asp?section=CFS&CID=af:obank:bb'},\n",
            "                        'brand': 'ANZ',\n",
            "                        'cardArt': [],\n",
            "                        'description': 'Need help with cash flow? Our '\n",
            "                                       'overdrafts offer flexible payment '\n",
            "                                       'options and provide you with peace of '\n",
            "                                       'mind.',\n",
            "                        'effectiveFrom': '2020-06-30T14:00:00.000Z',\n",
            "                        'isTailored': True,\n",
            "                        'lastUpdated': '2020-06-30T22:00:00.000Z',\n",
            "                        'name': 'ANZ Business Overdraft',\n",
            "                        'productCategory': 'OVERDRAFTS',\n",
            "                        'productId': '29d276fc-e46f-4302-a04b-cda03fe31e76'},\n",
            "                       {'additionalInformation': {'eligibilityUri': 'http://www.anz.com/corporate/products-services/financing/business-loans/business-mortgage/?CID=af:obank:bb',\n",
            "                                                  'feesAndPricingUri': 'http://www.anz.com/aus/ratefee/default.asp?section=CFS&CID=af:obank:bb',\n",
            "                                                  'overviewUri': 'http://www.anz.com/corporate/products-services/financing/business-loans/business-mortgage/?CID=af:obank:bb',\n",
            "                                                  'termsUri': 'http://www.anz.com/aus/ratefee/default.asp?section=CFS&CID=af:obank:bb'},\n",
            "                        'brand': 'ANZ',\n",
            "                        'cardArt': [],\n",
            "                        'description': 'With a choice of repayment options, '\n",
            "                                       'our Business Mortgage lets you '\n",
            "                                       'handpick the solutions that suit your '\n",
            "                                       'business best',\n",
            "                        'effectiveFrom': '2020-06-30T14:00:00.000Z',\n",
            "                        'isTailored': False,\n",
            "                        'lastUpdated': '2020-06-30T22:00:00.000Z',\n",
            "                        'name': 'ANZ Business Mortgage',\n",
            "                        'productCategory': 'BUSINESS_LOANS',\n",
            "                        'productId': '520c8ae2-276c-4678-8f72-5367c80d830f'},\n",
            "                       {'additionalInformation': {'eligibilityUri': 'https://www.anz.com.au/personal/personal-loans/overdrafts/personal-overdraft/?CID=af:obank:tv#eligibility',\n",
            "                                                  'feesAndPricingUri': 'https://www.anz.com.au/personal/personal-loans/overdrafts/personal-overdraft/?CID=af:obank:tv#rates',\n",
            "                                                  'overviewUri': 'https://www.anz.com.au/personal/personal-loans/overdrafts/personal-overdraft/?CID=af:obank:tv',\n",
            "                                                  'termsUri': 'http://www.anz.com/auxiliary/rates-fees-terms/fees-terms-conditions/?CID=af:obank:tv#FTPDS'},\n",
            "                        'applicationUri': 'https://www.anz.com.au/content/dam/anzcomau/documents/pdf/personal-overdraft-app-form.pdf?CID=af:obank:tv',\n",
            "                        'brand': 'ANZ',\n",
            "                        'cardArt': [],\n",
            "                        'description': 'Extra cash whenever you need it',\n",
            "                        'effectiveFrom': '2020-06-30T14:00:00.000Z',\n",
            "                        'isTailored': False,\n",
            "                        'lastUpdated': '2020-06-30T22:00:00.000Z',\n",
            "                        'name': 'ANZ Personal Overdraft',\n",
            "                        'productCategory': 'OVERDRAFTS',\n",
            "                        'productId': '5c365bbc-25c8-4c1b-b8f1-eff3056a37a1'},\n",
            "                       {'additionalInformation': {'eligibilityUri': 'http://www.anz.com/personal/bank-accounts/microsite/adviser-services/anz-v2-plus/?CID=af:obank:sv',\n",
            "                                                  'feesAndPricingUri': 'http://www.anz.com/personal/bank-accounts/microsite/adviser-services/anz-v2-plus/?CID=af:obank:sv',\n",
            "                                                  'overviewUri': 'http://www.anz.com/personal/bank-accounts/microsite/adviser-services/anz-v2-plus/?CID=af:obank:sv',\n",
            "                                                  'termsUri': 'http://www.anz.com/auxiliary/rates-fees-terms/fees-terms-conditions/?CID=af:obank:sv#FTPDS'},\n",
            "                        'applicationUri': 'https://onlineapps.anz.com/third-party-deposit/?CID=af:obank:sv#/landing',\n",
            "                        'brand': 'ANZ',\n",
            "                        'cardArt': [],\n",
            "                        'description': 'Distributed via a range of approved '\n",
            "                                       'Third Parties such as stockbrokers, '\n",
            "                                       'accountants and SMSF administrators '\n",
            "                                       'who open deposit accounts on behalf of '\n",
            "                                       'their customers',\n",
            "                        'effectiveFrom': '2020-06-30T22:00:00.000Z',\n",
            "                        'isTailored': False,\n",
            "                        'lastUpdated': '2020-06-30T22:00:00.000Z',\n",
            "                        'name': 'ANZ V2 PLUS',\n",
            "                        'productCategory': 'TRANS_AND_SAVINGS_ACCOUNTS',\n",
            "                        'productId': '78df30d3-62c7-448d-b8ed-5da59894eb79'},\n",
            "                       {'additionalInformation': {'eligibilityUri': 'https://www.anz.com.au/business/products/loans-finance/loans/asset-finance/?CID=af:obank:bb',\n",
            "                                                  'feesAndPricingUri': 'https://www.anz.com.au/business/help-support/terms-conditions/?section=SBS&CID=af:obank:bb',\n",
            "                                                  'overviewUri': 'https://www.anz.com.au/business/products/loans-finance/loans/asset-finance/?CID=af:obank:bb',\n",
            "                                                  'termsUri': 'https://www.anz.com.au/business/help-support/terms-conditions/?section=SBS&CID=af:obank:bb'},\n",
            "                        'brand': 'ANZ',\n",
            "                        'cardArt': [],\n",
            "                        'description': 'With ANZ equipment finance, you can '\n",
            "                                       'get the tools and machinery your '\n",
            "                                       'business needs, with the option of '\n",
            "                                       'tailoring your repayments to suit your '\n",
            "                                       'cash flow',\n",
            "                        'effectiveFrom': '2020-06-30T14:00:00.000Z',\n",
            "                        'isTailored': False,\n",
            "                        'lastUpdated': '2020-06-30T22:00:00.000Z',\n",
            "                        'name': 'ANZ Asset Finance',\n",
            "                        'productCategory': 'BUSINESS_LOANS',\n",
            "                        'productId': 'bb9843cd-bb64-41ac-bee4-f203b51acce2'},\n",
            "                       {'additionalInformation': {'eligibilityUri': 'https://www.anz.com.au/personal/personal-loans/overdrafts/assured/?CID=af:obank:tv#eligibility',\n",
            "                                                  'feesAndPricingUri': 'https://www.anz.com.au/personal/personal-loans/overdrafts/assured/?CID=af:obank:tv#rates',\n",
            "                                                  'overviewUri': 'https://www.anz.com.au/personal/personal-loans/overdrafts/assured/?CID=af:obank:tv',\n",
            "                                                  'termsUri': 'https://www.anz.com.au/content/dam/anzcomau/documents/pdf/assured-personal-overdraft-tc.pdf?CID=af:obank:tv'},\n",
            "                        'applicationUri': 'http://www.anz.com.au/personal/personal-loans/forms/assured-application/?CID=af:obank:tv',\n",
            "                        'brand': 'ANZ',\n",
            "                        'cardArt': [],\n",
            "                        'description': 'When you need that little bit extra to '\n",
            "                                       'cover unexpected expenses',\n",
            "                        'effectiveFrom': '2020-06-30T14:00:00.000Z',\n",
            "                        'isTailored': False,\n",
            "                        'lastUpdated': '2020-06-30T22:00:00.000Z',\n",
            "                        'name': 'ANZ Assured Overdraft',\n",
            "                        'productCategory': 'OVERDRAFTS',\n",
            "                        'productId': 'f6527f3e-4f82-4b6e-a4dc-32cf5f4f32a8'},\n",
            "                       {'additionalInformation': {'eligibilityUri': 'https://www.anz.com.au/business/products/accounts/specialist-accounts/farm-management-deposits/?CID=af:obank:ag',\n",
            "                                                  'feesAndPricingUri': 'https://www.anz.com.au/business/products/accounts/specialist-accounts/farm-management-deposits/?CID=af:obank:ag',\n",
            "                                                  'overviewUri': 'https://www.anz.com.au/business/products/accounts/specialist-accounts/farm-management-deposits/?CID=af:obank:ag',\n",
            "                                                  'termsUri': 'https://www.anz.com.au/business/help-support/terms-conditions/?section=SBS&CID=af:obank:ag'},\n",
            "                        'brand': 'ANZ',\n",
            "                        'cardArt': [],\n",
            "                        'description': 'A tax efficient investment account for '\n",
            "                                       'primary producers that can help you '\n",
            "                                       'manage uneven cashflow',\n",
            "                        'effectiveFrom': '2020-06-30T14:00:00.000Z',\n",
            "                        'isTailored': False,\n",
            "                        'lastUpdated': '2020-06-30T14:00:00.000Z',\n",
            "                        'name': 'Farm Management Deposit At Call',\n",
            "                        'productCategory': 'TRANS_AND_SAVINGS_ACCOUNTS',\n",
            "                        'productId': '79c2b4dd-7c4d-4f06-b8b4-874eb2178e31'}]},\n",
            " 'links': {'first': 'https://api.anz/cds-au/v1/banking/products?page=1&page-size=25',\n",
            "           'last': 'https://api.anz/cds-au/v1/banking/products?page=2&page-size=25',\n",
            "           'next': 'https://api.anz/cds-au/v1/banking/products?page=2&page-size=25',\n",
            "           'self': 'https://api.anz/cds-au/v1/banking/products'},\n",
            " 'meta': {'totalPages': 2, 'totalRecords': 50}}\n"
          ],
          "name": "stdout"
        }
      ]
    },
    {
      "cell_type": "markdown",
      "metadata": {
        "id": "-pg0UBs8Nwoz"
      },
      "source": [
        "## Get Product Detail\n",
        "\n",
        "\n",
        "\n"
      ]
    },
    {
      "cell_type": "markdown",
      "metadata": {
        "id": "rZU7wcnINwoz"
      },
      "source": [
        "This API returns detailed information on a single product offered by the financial institutions.\n",
        "\n",
        "[Complete API reference](https://consumerdatastandardsaustralia.github.io/standards/#get-product-detail)"
      ]
    },
    {
      "cell_type": "markdown",
      "metadata": {
        "id": "7llPp9F7Nwoz"
      },
      "source": [
        "**Import requests**"
      ]
    },
    {
      "cell_type": "markdown",
      "metadata": {
        "id": "fJ5S8WIWNwoz"
      },
      "source": [
        "We need to import the requests library to fetch the webpage and return the results"
      ]
    },
    {
      "cell_type": "code",
      "metadata": {
        "id": "eFQJeYH0Nwoz"
      },
      "source": [
        "import requests\n",
        "from requests.structures import CaseInsensitiveDict"
      ],
      "execution_count": 15,
      "outputs": []
    },
    {
      "cell_type": "markdown",
      "metadata": {
        "id": "hcAxeZloNwoz"
      },
      "source": [
        "**Set Endpoint URL**"
      ]
    },
    {
      "cell_type": "markdown",
      "metadata": {
        "id": "ie2dRjs8Nwoz"
      },
      "source": [
        "We need the URL and product ID for our banking product. We can find a Product ID using Get Products."
      ]
    },
    {
      "cell_type": "code",
      "metadata": {
        "id": "UGTC4dk0Nwoz"
      },
      "source": [
        "url = \"https://api.anz/cds-au/v1\"\n",
        "suffix = \"/banking/products/5eb62ffc-51f0-6ac0-2abf-d81b260ee260\""
      ],
      "execution_count": 16,
      "outputs": []
    },
    {
      "cell_type": "markdown",
      "metadata": {
        "id": "SLobIckhNwoz"
      },
      "source": [
        "**Set Headers**"
      ]
    },
    {
      "cell_type": "markdown",
      "metadata": {
        "id": "or6UrNFCNwoz"
      },
      "source": [
        "We need to include the neccessary headers as per the API standards. The only madatory header is `x-v` so we will include that. All available headers can be found [here](https://consumerdatastandardsaustralia.github.io/standards/#get-products)."
      ]
    },
    {
      "cell_type": "code",
      "metadata": {
        "id": "PneFp_FdNwoz"
      },
      "source": [
        "headers = CaseInsensitiveDict()\n",
        "headers[\"x-v\"] = \"2\""
      ],
      "execution_count": 17,
      "outputs": []
    },
    {
      "cell_type": "markdown",
      "metadata": {
        "id": "LKTRI_pgNwoz"
      },
      "source": [
        "**Fetch Result**"
      ]
    },
    {
      "cell_type": "markdown",
      "metadata": {
        "id": "HW_8tTeENwoz"
      },
      "source": [
        "We can now send the API request and print the result."
      ]
    },
    {
      "cell_type": "code",
      "metadata": {
        "colab": {
          "base_uri": "https://localhost:8080/"
        },
        "id": "eqx3tRpJNwo0",
        "outputId": "28a1a984-83a7-4e6f-e41a-382d5eb66392"
      },
      "source": [
        "resp = requests.get(url+suffix, headers=headers)\n",
        "\n",
        "print(resp.content)"
      ],
      "execution_count": 18,
      "outputs": [
        {
          "output_type": "stream",
          "text": [
            "b'{\"data\":{\"additionalInformation\":{\"eligibilityUri\":\"https://www.anz.com.au/personal/bank-accounts/everyday-accounts/access-advantage/?CID=af:obank:tv\",\"feesAndPricingUri\":\"https://www.anz.com.au/content/dam/anzcomau/documents/pdf/personal-account-fees-charges.pdf?CID=af:obank:tv\",\"overviewUri\":\"https://www.anz.com.au/personal/bank-accounts/everyday-accounts/access-advantage/?CID=af:obank:tv\",\"termsUri\":\"http://www.anz.com/auxiliary/rates-fees-terms/fees-terms-conditions/?CID=af:obank:tv#FTPDS\"},\"applicationUri\":\"https://applyonline.anz.com/dsr-dep/deposits/apply?apptype=AA\\\\u0026sourcecode_1=QMV\\\\u0026CID=af:obank:tv\",\"brand\":\"ANZ\",\"cardArt\":[],\"description\":\"An everyday account with easy and secure banking, unlimited ANZ Transactions and Visa Debit card\",\"effectiveFrom\":\"2019-06-30T14:00:00.000Z\",\"isTailored\":false,\"lastUpdated\":\"2019-08-22T14:00:00.000Z\",\"name\":\"ANZ Access Advantage\",\"productCategory\":\"TRANS_AND_SAVINGS_ACCOUNTS\",\"productId\":\"5eb62ffc-51f0-6ac0-2abf-d81b260ee260\",\"bundles\":[],\"constraints\":[],\"depositRates\":[{\"applicationFrequency\":\"P1M\",\"calculationFrequency\":\"P1D\",\"depositRateType\":\"VARIABLE\",\"rate\":\"0.00\",\"tiers\":[{\"applicabilityConditions\":{\"additionalInfo\":\"Balance between $1 and $49,999\"},\"maximumValue\":49999,\"minimumValue\":1,\"name\":\"Balance\",\"rateApplicationMethod\":\"WHOLE_BALANCE\",\"unitOfMeasure\":\"DOLLAR\"}]},{\"applicationFrequency\":\"P1M\",\"calculationFrequency\":\"P1D\",\"depositRateType\":\"VARIABLE\",\"rate\":\"0.0001\",\"tiers\":[{\"applicabilityConditions\":{\"additionalInfo\":\"Balance between $50,000 and $99,999\"},\"maximumValue\":99999,\"minimumValue\":50000,\"name\":\"Balance\",\"rateApplicationMethod\":\"WHOLE_BALANCE\",\"unitOfMeasure\":\"DOLLAR\"}]},{\"applicationFrequency\":\"P1M\",\"calculationFrequency\":\"P1D\",\"depositRateType\":\"VARIABLE\",\"rate\":\"0.0002\",\"tiers\":[{\"applicabilityConditions\":{\"additionalInfo\":\"Balance $100,000 or more\"},\"minimumValue\":100000,\"name\":\"Balance\",\"rateApplicationMethod\":\"WHOLE_BALANCE\",\"unitOfMeasure\":\"DOLLAR\"}]}],\"eligibility\":[],\"features\":[],\"fees\":[{\"additionalInfo\":\"No monthly account service fee if you deposit at least $2,000 a month, are under 25 and meet our other eligibility criteria\",\"additionalInfoUri\":\"https://www.anz.com.au/content/dam/anzcomau/documents/pdf/personal-account-fees-charges.pdf?CID=af:obank:tv\",\"additionalValue\":\"P1M\",\"amount\":\"5.00\",\"currency\":\"AUD\",\"discounts\":[{\"additionalInfo\":\"Account holders may apply to waive the monthly account service fee on one nominated ANZ Access Advantage account if you meet the eligibility criteria\",\"amount\":\"5.00\",\"description\":\"Account Service waiver\",\"discountType\":\"ELIGIBILITY_ONLY\",\"eligibility\":[{\"additionalInfo\":\"Receive a disability support pension or mobility allowance from Centrelink\",\"discountEligibilityType\":\"PENSION_RECIPIENT\"},{\"additionalInfo\":\"Over 60 years of age\",\"additionalValue\":\"60\",\"discountEligibilityType\":\"MIN_AGE\"},{\"additionalInfo\":\"Under 25 years of age\",\"additionalValue\":\"25\",\"discountEligibilityType\":\"MAX_AGE\"},{\"additionalInfo\":\"A full-time student at an Australian educational institution\",\"discountEligibilityType\":\"STUDENT\"},{\"additionalInfo\":\"Deposit $2,000 or more by the last business day of the calendar month. You must satisfy this requirement to be eligible for the waiver in a particular month.  \",\"discountEligibilityType\":\"OTHER\"},{\"additionalInfo\":\"Have an ANZ Home Loan, ANZ Residential Investment Loan or ANZ Portfolio Facility and have your salary paid into your account. Loans not eligible include ANZ Simplicity PLUS, ANZ Money Saver (no longer sold), ANZ Easy Start (no longer sold) and ANZ Interest-in-Advance Residential Investment Loans.\",\"discountEligibilityType\":\"OTHER\"},{\"additionalInfo\":\"Have a combined deposit balance of $50,000 in one or more of the following ANZ accounts: ANZ Access Advantage, Access Select, Premium Cash Management, Online Saver, Progress Saver, ANZ term deposits, V2 Plus, Passbook Savings, Premier Cheque\",\"discountEligibilityType\":\"OTHER\"}]}],\"feeType\":\"PERIODIC\",\"name\":\"Account Service\"}],\"lendingRates\":[]},\"links\":{\"self\":\"https://api.anz/cds-au/v1/banking/products/5eb62ffc-51f0-6ac0-2abf-d81b260ee260\"}}\\n'\n"
          ],
          "name": "stdout"
        }
      ]
    },
    {
      "cell_type": "markdown",
      "metadata": {
        "id": "yxdglbTENwo0"
      },
      "source": [
        "**Formatting Result**"
      ]
    },
    {
      "cell_type": "markdown",
      "metadata": {
        "id": "aKNUV188Nwo0"
      },
      "source": [
        "The API returns JSON, we can tell python to treat this data as a JSON object to make it easier to use and process."
      ]
    },
    {
      "cell_type": "code",
      "metadata": {
        "colab": {
          "base_uri": "https://localhost:8080/"
        },
        "id": "zn-Ley9FNwo0",
        "outputId": "57824a6e-984c-44b5-cddb-7bfcee97028b"
      },
      "source": [
        "import json\n",
        "\n",
        "reply = json.loads(resp.content)\n",
        "\n",
        "print(reply)"
      ],
      "execution_count": 19,
      "outputs": [
        {
          "output_type": "stream",
          "text": [
            "{'data': {'additionalInformation': {'eligibilityUri': 'https://www.anz.com.au/personal/bank-accounts/everyday-accounts/access-advantage/?CID=af:obank:tv', 'feesAndPricingUri': 'https://www.anz.com.au/content/dam/anzcomau/documents/pdf/personal-account-fees-charges.pdf?CID=af:obank:tv', 'overviewUri': 'https://www.anz.com.au/personal/bank-accounts/everyday-accounts/access-advantage/?CID=af:obank:tv', 'termsUri': 'http://www.anz.com/auxiliary/rates-fees-terms/fees-terms-conditions/?CID=af:obank:tv#FTPDS'}, 'applicationUri': 'https://applyonline.anz.com/dsr-dep/deposits/apply?apptype=AA&sourcecode_1=QMV&CID=af:obank:tv', 'brand': 'ANZ', 'cardArt': [], 'description': 'An everyday account with easy and secure banking, unlimited ANZ Transactions and Visa Debit card', 'effectiveFrom': '2019-06-30T14:00:00.000Z', 'isTailored': False, 'lastUpdated': '2019-08-22T14:00:00.000Z', 'name': 'ANZ Access Advantage', 'productCategory': 'TRANS_AND_SAVINGS_ACCOUNTS', 'productId': '5eb62ffc-51f0-6ac0-2abf-d81b260ee260', 'bundles': [], 'constraints': [], 'depositRates': [{'applicationFrequency': 'P1M', 'calculationFrequency': 'P1D', 'depositRateType': 'VARIABLE', 'rate': '0.00', 'tiers': [{'applicabilityConditions': {'additionalInfo': 'Balance between $1 and $49,999'}, 'maximumValue': 49999, 'minimumValue': 1, 'name': 'Balance', 'rateApplicationMethod': 'WHOLE_BALANCE', 'unitOfMeasure': 'DOLLAR'}]}, {'applicationFrequency': 'P1M', 'calculationFrequency': 'P1D', 'depositRateType': 'VARIABLE', 'rate': '0.0001', 'tiers': [{'applicabilityConditions': {'additionalInfo': 'Balance between $50,000 and $99,999'}, 'maximumValue': 99999, 'minimumValue': 50000, 'name': 'Balance', 'rateApplicationMethod': 'WHOLE_BALANCE', 'unitOfMeasure': 'DOLLAR'}]}, {'applicationFrequency': 'P1M', 'calculationFrequency': 'P1D', 'depositRateType': 'VARIABLE', 'rate': '0.0002', 'tiers': [{'applicabilityConditions': {'additionalInfo': 'Balance $100,000 or more'}, 'minimumValue': 100000, 'name': 'Balance', 'rateApplicationMethod': 'WHOLE_BALANCE', 'unitOfMeasure': 'DOLLAR'}]}], 'eligibility': [], 'features': [], 'fees': [{'additionalInfo': 'No monthly account service fee if you deposit at least $2,000 a month, are under 25 and meet our other eligibility criteria', 'additionalInfoUri': 'https://www.anz.com.au/content/dam/anzcomau/documents/pdf/personal-account-fees-charges.pdf?CID=af:obank:tv', 'additionalValue': 'P1M', 'amount': '5.00', 'currency': 'AUD', 'discounts': [{'additionalInfo': 'Account holders may apply to waive the monthly account service fee on one nominated ANZ Access Advantage account if you meet the eligibility criteria', 'amount': '5.00', 'description': 'Account Service waiver', 'discountType': 'ELIGIBILITY_ONLY', 'eligibility': [{'additionalInfo': 'Receive a disability support pension or mobility allowance from Centrelink', 'discountEligibilityType': 'PENSION_RECIPIENT'}, {'additionalInfo': 'Over 60 years of age', 'additionalValue': '60', 'discountEligibilityType': 'MIN_AGE'}, {'additionalInfo': 'Under 25 years of age', 'additionalValue': '25', 'discountEligibilityType': 'MAX_AGE'}, {'additionalInfo': 'A full-time student at an Australian educational institution', 'discountEligibilityType': 'STUDENT'}, {'additionalInfo': 'Deposit $2,000 or more by the last business day of the calendar month. You must satisfy this requirement to be eligible for the waiver in a particular month.  ', 'discountEligibilityType': 'OTHER'}, {'additionalInfo': 'Have an ANZ Home Loan, ANZ Residential Investment Loan or ANZ Portfolio Facility and have your salary paid into your account. Loans not eligible include ANZ Simplicity PLUS, ANZ Money Saver (no longer sold), ANZ Easy Start (no longer sold) and ANZ Interest-in-Advance Residential Investment Loans.', 'discountEligibilityType': 'OTHER'}, {'additionalInfo': 'Have a combined deposit balance of $50,000 in one or more of the following ANZ accounts: ANZ Access Advantage, Access Select, Premium Cash Management, Online Saver, Progress Saver, ANZ term deposits, V2 Plus, Passbook Savings, Premier Cheque', 'discountEligibilityType': 'OTHER'}]}], 'feeType': 'PERIODIC', 'name': 'Account Service'}], 'lendingRates': []}, 'links': {'self': 'https://api.anz/cds-au/v1/banking/products/5eb62ffc-51f0-6ac0-2abf-d81b260ee260'}}\n"
          ],
          "name": "stdout"
        }
      ]
    },
    {
      "cell_type": "markdown",
      "metadata": {
        "id": "Xkcw4gmFNwo0"
      },
      "source": [
        "We can print the reply in a more readable way using pprint."
      ]
    },
    {
      "cell_type": "code",
      "metadata": {
        "colab": {
          "base_uri": "https://localhost:8080/"
        },
        "id": "FhgY8nelNwo0",
        "outputId": "aadb80b4-ac58-4fc7-fe20-f2a91a3d2f38"
      },
      "source": [
        "import pprint\n",
        "\n",
        "pprint.pprint(reply)"
      ],
      "execution_count": 20,
      "outputs": [
        {
          "output_type": "stream",
          "text": [
            "{'data': {'additionalInformation': {'eligibilityUri': 'https://www.anz.com.au/personal/bank-accounts/everyday-accounts/access-advantage/?CID=af:obank:tv',\n",
            "                                    'feesAndPricingUri': 'https://www.anz.com.au/content/dam/anzcomau/documents/pdf/personal-account-fees-charges.pdf?CID=af:obank:tv',\n",
            "                                    'overviewUri': 'https://www.anz.com.au/personal/bank-accounts/everyday-accounts/access-advantage/?CID=af:obank:tv',\n",
            "                                    'termsUri': 'http://www.anz.com/auxiliary/rates-fees-terms/fees-terms-conditions/?CID=af:obank:tv#FTPDS'},\n",
            "          'applicationUri': 'https://applyonline.anz.com/dsr-dep/deposits/apply?apptype=AA&sourcecode_1=QMV&CID=af:obank:tv',\n",
            "          'brand': 'ANZ',\n",
            "          'bundles': [],\n",
            "          'cardArt': [],\n",
            "          'constraints': [],\n",
            "          'depositRates': [{'applicationFrequency': 'P1M',\n",
            "                            'calculationFrequency': 'P1D',\n",
            "                            'depositRateType': 'VARIABLE',\n",
            "                            'rate': '0.00',\n",
            "                            'tiers': [{'applicabilityConditions': {'additionalInfo': 'Balance '\n",
            "                                                                                     'between '\n",
            "                                                                                     '$1 '\n",
            "                                                                                     'and '\n",
            "                                                                                     '$49,999'},\n",
            "                                       'maximumValue': 49999,\n",
            "                                       'minimumValue': 1,\n",
            "                                       'name': 'Balance',\n",
            "                                       'rateApplicationMethod': 'WHOLE_BALANCE',\n",
            "                                       'unitOfMeasure': 'DOLLAR'}]},\n",
            "                           {'applicationFrequency': 'P1M',\n",
            "                            'calculationFrequency': 'P1D',\n",
            "                            'depositRateType': 'VARIABLE',\n",
            "                            'rate': '0.0001',\n",
            "                            'tiers': [{'applicabilityConditions': {'additionalInfo': 'Balance '\n",
            "                                                                                     'between '\n",
            "                                                                                     '$50,000 '\n",
            "                                                                                     'and '\n",
            "                                                                                     '$99,999'},\n",
            "                                       'maximumValue': 99999,\n",
            "                                       'minimumValue': 50000,\n",
            "                                       'name': 'Balance',\n",
            "                                       'rateApplicationMethod': 'WHOLE_BALANCE',\n",
            "                                       'unitOfMeasure': 'DOLLAR'}]},\n",
            "                           {'applicationFrequency': 'P1M',\n",
            "                            'calculationFrequency': 'P1D',\n",
            "                            'depositRateType': 'VARIABLE',\n",
            "                            'rate': '0.0002',\n",
            "                            'tiers': [{'applicabilityConditions': {'additionalInfo': 'Balance '\n",
            "                                                                                     '$100,000 '\n",
            "                                                                                     'or '\n",
            "                                                                                     'more'},\n",
            "                                       'minimumValue': 100000,\n",
            "                                       'name': 'Balance',\n",
            "                                       'rateApplicationMethod': 'WHOLE_BALANCE',\n",
            "                                       'unitOfMeasure': 'DOLLAR'}]}],\n",
            "          'description': 'An everyday account with easy and secure banking, '\n",
            "                         'unlimited ANZ Transactions and Visa Debit card',\n",
            "          'effectiveFrom': '2019-06-30T14:00:00.000Z',\n",
            "          'eligibility': [],\n",
            "          'features': [],\n",
            "          'fees': [{'additionalInfo': 'No monthly account service fee if you '\n",
            "                                      'deposit at least $2,000 a month, are '\n",
            "                                      'under 25 and meet our other eligibility '\n",
            "                                      'criteria',\n",
            "                    'additionalInfoUri': 'https://www.anz.com.au/content/dam/anzcomau/documents/pdf/personal-account-fees-charges.pdf?CID=af:obank:tv',\n",
            "                    'additionalValue': 'P1M',\n",
            "                    'amount': '5.00',\n",
            "                    'currency': 'AUD',\n",
            "                    'discounts': [{'additionalInfo': 'Account holders may '\n",
            "                                                     'apply to waive the '\n",
            "                                                     'monthly account service '\n",
            "                                                     'fee on one nominated ANZ '\n",
            "                                                     'Access Advantage account '\n",
            "                                                     'if you meet the '\n",
            "                                                     'eligibility criteria',\n",
            "                                   'amount': '5.00',\n",
            "                                   'description': 'Account Service waiver',\n",
            "                                   'discountType': 'ELIGIBILITY_ONLY',\n",
            "                                   'eligibility': [{'additionalInfo': 'Receive '\n",
            "                                                                      'a '\n",
            "                                                                      'disability '\n",
            "                                                                      'support '\n",
            "                                                                      'pension '\n",
            "                                                                      'or '\n",
            "                                                                      'mobility '\n",
            "                                                                      'allowance '\n",
            "                                                                      'from '\n",
            "                                                                      'Centrelink',\n",
            "                                                    'discountEligibilityType': 'PENSION_RECIPIENT'},\n",
            "                                                   {'additionalInfo': 'Over 60 '\n",
            "                                                                      'years '\n",
            "                                                                      'of age',\n",
            "                                                    'additionalValue': '60',\n",
            "                                                    'discountEligibilityType': 'MIN_AGE'},\n",
            "                                                   {'additionalInfo': 'Under '\n",
            "                                                                      '25 '\n",
            "                                                                      'years '\n",
            "                                                                      'of age',\n",
            "                                                    'additionalValue': '25',\n",
            "                                                    'discountEligibilityType': 'MAX_AGE'},\n",
            "                                                   {'additionalInfo': 'A '\n",
            "                                                                      'full-time '\n",
            "                                                                      'student '\n",
            "                                                                      'at an '\n",
            "                                                                      'Australian '\n",
            "                                                                      'educational '\n",
            "                                                                      'institution',\n",
            "                                                    'discountEligibilityType': 'STUDENT'},\n",
            "                                                   {'additionalInfo': 'Deposit '\n",
            "                                                                      '$2,000 '\n",
            "                                                                      'or more '\n",
            "                                                                      'by the '\n",
            "                                                                      'last '\n",
            "                                                                      'business '\n",
            "                                                                      'day of '\n",
            "                                                                      'the '\n",
            "                                                                      'calendar '\n",
            "                                                                      'month. '\n",
            "                                                                      'You '\n",
            "                                                                      'must '\n",
            "                                                                      'satisfy '\n",
            "                                                                      'this '\n",
            "                                                                      'requirement '\n",
            "                                                                      'to be '\n",
            "                                                                      'eligible '\n",
            "                                                                      'for the '\n",
            "                                                                      'waiver '\n",
            "                                                                      'in a '\n",
            "                                                                      'particular '\n",
            "                                                                      'month.  ',\n",
            "                                                    'discountEligibilityType': 'OTHER'},\n",
            "                                                   {'additionalInfo': 'Have an '\n",
            "                                                                      'ANZ '\n",
            "                                                                      'Home '\n",
            "                                                                      'Loan, '\n",
            "                                                                      'ANZ '\n",
            "                                                                      'Residential '\n",
            "                                                                      'Investment '\n",
            "                                                                      'Loan or '\n",
            "                                                                      'ANZ '\n",
            "                                                                      'Portfolio '\n",
            "                                                                      'Facility '\n",
            "                                                                      'and '\n",
            "                                                                      'have '\n",
            "                                                                      'your '\n",
            "                                                                      'salary '\n",
            "                                                                      'paid '\n",
            "                                                                      'into '\n",
            "                                                                      'your '\n",
            "                                                                      'account. '\n",
            "                                                                      'Loans '\n",
            "                                                                      'not '\n",
            "                                                                      'eligible '\n",
            "                                                                      'include '\n",
            "                                                                      'ANZ '\n",
            "                                                                      'Simplicity '\n",
            "                                                                      'PLUS, '\n",
            "                                                                      'ANZ '\n",
            "                                                                      'Money '\n",
            "                                                                      'Saver '\n",
            "                                                                      '(no '\n",
            "                                                                      'longer '\n",
            "                                                                      'sold), '\n",
            "                                                                      'ANZ '\n",
            "                                                                      'Easy '\n",
            "                                                                      'Start '\n",
            "                                                                      '(no '\n",
            "                                                                      'longer '\n",
            "                                                                      'sold) '\n",
            "                                                                      'and ANZ '\n",
            "                                                                      'Interest-in-Advance '\n",
            "                                                                      'Residential '\n",
            "                                                                      'Investment '\n",
            "                                                                      'Loans.',\n",
            "                                                    'discountEligibilityType': 'OTHER'},\n",
            "                                                   {'additionalInfo': 'Have a '\n",
            "                                                                      'combined '\n",
            "                                                                      'deposit '\n",
            "                                                                      'balance '\n",
            "                                                                      'of '\n",
            "                                                                      '$50,000 '\n",
            "                                                                      'in one '\n",
            "                                                                      'or more '\n",
            "                                                                      'of the '\n",
            "                                                                      'following '\n",
            "                                                                      'ANZ '\n",
            "                                                                      'accounts: '\n",
            "                                                                      'ANZ '\n",
            "                                                                      'Access '\n",
            "                                                                      'Advantage, '\n",
            "                                                                      'Access '\n",
            "                                                                      'Select, '\n",
            "                                                                      'Premium '\n",
            "                                                                      'Cash '\n",
            "                                                                      'Management, '\n",
            "                                                                      'Online '\n",
            "                                                                      'Saver, '\n",
            "                                                                      'Progress '\n",
            "                                                                      'Saver, '\n",
            "                                                                      'ANZ '\n",
            "                                                                      'term '\n",
            "                                                                      'deposits, '\n",
            "                                                                      'V2 '\n",
            "                                                                      'Plus, '\n",
            "                                                                      'Passbook '\n",
            "                                                                      'Savings, '\n",
            "                                                                      'Premier '\n",
            "                                                                      'Cheque',\n",
            "                                                    'discountEligibilityType': 'OTHER'}]}],\n",
            "                    'feeType': 'PERIODIC',\n",
            "                    'name': 'Account Service'}],\n",
            "          'isTailored': False,\n",
            "          'lastUpdated': '2019-08-22T14:00:00.000Z',\n",
            "          'lendingRates': [],\n",
            "          'name': 'ANZ Access Advantage',\n",
            "          'productCategory': 'TRANS_AND_SAVINGS_ACCOUNTS',\n",
            "          'productId': '5eb62ffc-51f0-6ac0-2abf-d81b260ee260'},\n",
            " 'links': {'self': 'https://api.anz/cds-au/v1/banking/products/5eb62ffc-51f0-6ac0-2abf-d81b260ee260'}}\n"
          ],
          "name": "stdout"
        }
      ]
    }
  ]
}