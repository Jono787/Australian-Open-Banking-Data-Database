{
  "nbformat": 4,
  "nbformat_minor": 0,
  "metadata": {
    "colab": {
      "name": "Australian Open Banking Data.ipynb",
      "provenance": [],
      "collapsed_sections": [],
      "toc_visible": true,
      "authorship_tag": "ABX9TyPhRXjWbAhBMMzmU6m/g0A+"
    },
    "kernelspec": {
      "name": "python3",
      "display_name": "Python 3"
    }
  },
  "cells": [
    {
      "cell_type": "markdown",
      "metadata": {
        "id": "AADIlolZIotz"
      },
      "source": [
        "# Australian Open Banking Data\n",
        "\n",
        "\n",
        "---\n",
        "\n"
      ]
    },
    {
      "cell_type": "markdown",
      "metadata": {
        "id": "26Tx-Z91IwNS"
      },
      "source": [
        "To access any product reference data you need to send a HTTP request with the required parameters to the appropraite banking API URL. The two available \n",
        "Banking APIs are Get Products and Get Product Detail."
      ]
    },
    {
      "cell_type": "markdown",
      "metadata": {
        "id": "w1p4r_qsI_Dm"
      },
      "source": [
        "## Get Products\n",
        "\n",
        "\n",
        "\n"
      ]
    },
    {
      "cell_type": "markdown",
      "metadata": {
        "id": "_0XYm3ATJD3s"
      },
      "source": [
        "This API returns a list of products currently offered by the financial institution to the market.\n",
        "\n",
        "[Complete API reference](https://consumerdatastandardsaustralia.github.io/standards/#get-products)"
      ]
    },
    {
      "cell_type": "markdown",
      "metadata": {
        "id": "_GEV12w0LCk9"
      },
      "source": [
        "**Import requests**"
      ]
    },
    {
      "cell_type": "markdown",
      "metadata": {
        "id": "CzRhmFCiLwCL"
      },
      "source": [
        "We need to import the requests library to fetch the webpage and return the results"
      ]
    },
    {
      "cell_type": "code",
      "metadata": {
        "id": "Jx7mvxnEKhLm"
      },
      "source": [
        "import requests\n",
        "from requests.structures import CaseInsensitiveDict"
      ],
      "execution_count": null,
      "outputs": []
    },
    {
      "cell_type": "markdown",
      "metadata": {
        "id": "VeobNoNULG7M"
      },
      "source": [
        "**Set Endpoint URL**"
      ]
    },
    {
      "cell_type": "markdown",
      "metadata": {
        "id": "ylkqLFPxLN4l"
      },
      "source": [
        "We can set this URL to any listed on the [GitHub](https://github.com/LukePrior/Australian-Open-Banking-Data-Database#list-of-current-providers---96) page"
      ]
    },
    {
      "cell_type": "code",
      "metadata": {
        "id": "FSl1c5kULJ0u"
      },
      "source": [
        "url = \"https://api.anz/cds-au/v1\"\n",
        "suffix = \"/banking/products\""
      ],
      "execution_count": null,
      "outputs": []
    },
    {
      "cell_type": "markdown",
      "metadata": {
        "id": "-B-qWI8dLqBX"
      },
      "source": [
        "**Set Headers**"
      ]
    },
    {
      "cell_type": "markdown",
      "metadata": {
        "id": "SO9eoemVL6zW"
      },
      "source": [
        "We need to include the neccessary headers as per the API standards. The only madatory header is `x-v` so we will include that. All available headers can be found [here](https://consumerdatastandardsaustralia.github.io/standards/#get-products)."
      ]
    },
    {
      "cell_type": "code",
      "metadata": {
        "id": "tim3YjKKMNRz"
      },
      "source": [
        "headers = CaseInsensitiveDict()\n",
        "headers[\"x-v\"] = \"2\""
      ],
      "execution_count": null,
      "outputs": []
    },
    {
      "cell_type": "markdown",
      "metadata": {
        "id": "9iAYlEKHMQWi"
      },
      "source": [
        "**Fetch Result**"
      ]
    },
    {
      "cell_type": "markdown",
      "metadata": {
        "id": "YfPYQH8IMV3N"
      },
      "source": [
        "We can now send the API request and print the result."
      ]
    },
    {
      "cell_type": "code",
      "metadata": {
        "id": "DDZijiuNMaXB"
      },
      "source": [
        "resp = requests.get(url+suffix, headers=headers)\n",
        "\n",
        "print(resp.content)"
      ],
      "execution_count": null,
      "outputs": []
    },
    {
      "cell_type": "markdown",
      "metadata": {
        "id": "5eDqaNZlMo6R"
      },
      "source": [
        "**Formatting Result**"
      ]
    },
    {
      "cell_type": "markdown",
      "metadata": {
        "id": "tW03T47sMr76"
      },
      "source": [
        "The API returns JSON, we can tell python to treat this data as a JSON object to make it easier to use and process."
      ]
    },
    {
      "cell_type": "code",
      "metadata": {
        "id": "6qld7A8dMxce"
      },
      "source": [
        "import json\n",
        "\n",
        "reply = json.loads(resp.content)\n",
        "\n",
        "print(reply)"
      ],
      "execution_count": null,
      "outputs": []
    },
    {
      "cell_type": "markdown",
      "metadata": {
        "id": "zYYqvHJtNKf3"
      },
      "source": [
        "We can print the reply in a more readable way using pprint."
      ]
    },
    {
      "cell_type": "code",
      "metadata": {
        "id": "gJSGK4A7NZPH"
      },
      "source": [
        "import pprint\n",
        "\n",
        "pprint.pprint(reply)"
      ],
      "execution_count": null,
      "outputs": []
    },
    {
      "cell_type": "markdown",
      "metadata": {
        "id": "-pg0UBs8Nwoz"
      },
      "source": [
        "## Get Product Detail\n",
        "\n",
        "\n",
        "\n"
      ]
    },
    {
      "cell_type": "markdown",
      "metadata": {
        "id": "rZU7wcnINwoz"
      },
      "source": [
        "This API returns detailed information on a single product offered by the financial institutions.\n",
        "\n",
        "[Complete API reference](https://consumerdatastandardsaustralia.github.io/standards/#get-product-detail)"
      ]
    },
    {
      "cell_type": "markdown",
      "metadata": {
        "id": "7llPp9F7Nwoz"
      },
      "source": [
        "**Import requests**"
      ]
    },
    {
      "cell_type": "markdown",
      "metadata": {
        "id": "fJ5S8WIWNwoz"
      },
      "source": [
        "We need to import the requests library to fetch the webpage and return the results"
      ]
    },
    {
      "cell_type": "code",
      "metadata": {
        "id": "eFQJeYH0Nwoz"
      },
      "source": [
        "import requests\n",
        "from requests.structures import CaseInsensitiveDict"
      ],
      "execution_count": null,
      "outputs": []
    },
    {
      "cell_type": "markdown",
      "metadata": {
        "id": "hcAxeZloNwoz"
      },
      "source": [
        "**Set Endpoint URL**"
      ]
    },
    {
      "cell_type": "markdown",
      "metadata": {
        "id": "ie2dRjs8Nwoz"
      },
      "source": [
        "We need the URL and product ID for our banking product. We can find a Product ID using Get Products."
      ]
    },
    {
      "cell_type": "code",
      "metadata": {
        "id": "UGTC4dk0Nwoz"
      },
      "source": [
        "url = \"https://api.anz/cds-au/v1\"\n",
        "suffix = \"/banking/products/5eb62ffc-51f0-6ac0-2abf-d81b260ee260\""
      ],
      "execution_count": null,
      "outputs": []
    },
    {
      "cell_type": "markdown",
      "metadata": {
        "id": "SLobIckhNwoz"
      },
      "source": [
        "**Set Headers**"
      ]
    },
    {
      "cell_type": "markdown",
      "metadata": {
        "id": "or6UrNFCNwoz"
      },
      "source": [
        "We need to include the neccessary headers as per the API standards. The only madatory header is `x-v` so we will include that. All available headers can be found [here](https://consumerdatastandardsaustralia.github.io/standards/#get-products)."
      ]
    },
    {
      "cell_type": "code",
      "metadata": {
        "id": "PneFp_FdNwoz"
      },
      "source": [
        "headers = CaseInsensitiveDict()\n",
        "headers[\"x-v\"] = \"2\""
      ],
      "execution_count": null,
      "outputs": []
    },
    {
      "cell_type": "markdown",
      "metadata": {
        "id": "LKTRI_pgNwoz"
      },
      "source": [
        "**Fetch Result**"
      ]
    },
    {
      "cell_type": "markdown",
      "metadata": {
        "id": "HW_8tTeENwoz"
      },
      "source": [
        "We can now send the API request and print the result."
      ]
    },
    {
      "cell_type": "code",
      "metadata": {
        "id": "eqx3tRpJNwo0"
      },
      "source": [
        "resp = requests.get(url+suffix, headers=headers)\n",
        "\n",
        "print(resp.content)"
      ],
      "execution_count": null,
      "outputs": []
    },
    {
      "cell_type": "markdown",
      "metadata": {
        "id": "yxdglbTENwo0"
      },
      "source": [
        "**Formatting Result**"
      ]
    },
    {
      "cell_type": "markdown",
      "metadata": {
        "id": "aKNUV188Nwo0"
      },
      "source": [
        "The API returns JSON, we can tell python to treat this data as a JSON object to make it easier to use and process."
      ]
    },
    {
      "cell_type": "code",
      "metadata": {
        "id": "zn-Ley9FNwo0"
      },
      "source": [
        "import json\n",
        "\n",
        "reply = json.loads(resp.content)\n",
        "\n",
        "print(reply)"
      ],
      "execution_count": null,
      "outputs": []
    },
    {
      "cell_type": "markdown",
      "metadata": {
        "id": "Xkcw4gmFNwo0"
      },
      "source": [
        "We can print the reply in a more readable way using pprint."
      ]
    },
    {
      "cell_type": "code",
      "metadata": {
        "id": "FhgY8nelNwo0"
      },
      "source": [
        "import pprint\n",
        "\n",
        "pprint.pprint(reply)"
      ],
      "execution_count": null,
      "outputs": []
    }
  ]
}